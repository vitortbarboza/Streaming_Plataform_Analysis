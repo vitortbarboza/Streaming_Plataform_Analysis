{
 "cells": [
  {
   "cell_type": "markdown",
   "id": "119cf318",
   "metadata": {},
   "source": [
    "# Bibliotecas"
   ]
  },
  {
   "cell_type": "code",
   "execution_count": 1,
   "id": "fc4590b9",
   "metadata": {
    "ExecuteTime": {
     "end_time": "2023-03-24T03:33:43.067526Z",
     "start_time": "2023-03-24T03:33:27.732765Z"
    }
   },
   "outputs": [],
   "source": [
    "import pandas as pd\n",
    "import numpy as np\n",
    "import seaborn as sns\n",
    "import datetime as dt\n",
    "import matplotlib\n",
    "import matplotlib.pyplot as plt\n",
    "import statistics\n",
    "import math\n",
    "import itertools\n",
    "\n",
    "import warnings\n",
    "from datetime import date, datetime\n",
    "warnings.filterwarnings('ignore')\n",
    "\n",
    "sns.set(style=\"darkgrid\")"
   ]
  },
  {
   "cell_type": "markdown",
   "id": "c3a526fe",
   "metadata": {},
   "source": [
    "# Helper Functions"
   ]
  },
  {
   "cell_type": "code",
   "execution_count": 2,
   "id": "86416ee1",
   "metadata": {
    "ExecuteTime": {
     "end_time": "2023-03-24T03:33:43.099400Z",
     "start_time": "2023-03-24T03:33:43.073445Z"
    }
   },
   "outputs": [],
   "source": [
    "def show_values(axs, orient=\"v\", space=.01):\n",
    "    def _single(ax):\n",
    "        if orient == \"v\":\n",
    "            for p in ax.patches:\n",
    "                _x = p.get_x() + p.get_width() / 2\n",
    "                _y = p.get_y() + p.get_height() + (p.get_height()*0.02)\n",
    "                value = '{:.2f}'.format(p.get_height())\n",
    "                ax.text(_x, _y, value, ha=\"center\", fontsize=13, color='black') \n",
    "        elif orient == \"h\":\n",
    "            for p in ax.patches:\n",
    "                _x = p.get_x() + p.get_width() + float(space)\n",
    "                _y = p.get_y() + p.get_height() - (p.get_height()*0.5)\n",
    "                value = '{:.0f}'.format(p.get_width())\n",
    "                ax.text(_x, _y, value, ha=\"left\", fontsize=13)\n",
    "\n",
    "    if isinstance(axs, np.ndarray):\n",
    "        for idx, ax in np.ndenumerate(axs):\n",
    "            _single(ax)\n",
    "    else:\n",
    "        _single(axs)"
   ]
  },
  {
   "cell_type": "markdown",
   "id": "4c94e52d",
   "metadata": {},
   "source": [
    "# Importando os dados"
   ]
  },
  {
   "cell_type": "code",
   "execution_count": 3,
   "id": "43459ceb",
   "metadata": {
    "ExecuteTime": {
     "end_time": "2023-03-24T03:33:43.318582Z",
     "start_time": "2023-03-24T03:33:43.108402Z"
    }
   },
   "outputs": [
    {
     "data": {
      "text/html": [
       "<div>\n",
       "<style scoped>\n",
       "    .dataframe tbody tr th:only-of-type {\n",
       "        vertical-align: middle;\n",
       "    }\n",
       "\n",
       "    .dataframe tbody tr th {\n",
       "        vertical-align: top;\n",
       "    }\n",
       "\n",
       "    .dataframe thead th {\n",
       "        text-align: right;\n",
       "    }\n",
       "</style>\n",
       "<table border=\"1\" class=\"dataframe\">\n",
       "  <thead>\n",
       "    <tr style=\"text-align: right;\">\n",
       "      <th></th>\n",
       "      <th>show_id</th>\n",
       "      <th>type</th>\n",
       "      <th>title</th>\n",
       "      <th>director</th>\n",
       "      <th>cast</th>\n",
       "      <th>country</th>\n",
       "      <th>date_added</th>\n",
       "      <th>release_year</th>\n",
       "      <th>rating</th>\n",
       "      <th>duration</th>\n",
       "      <th>listed_in</th>\n",
       "      <th>description</th>\n",
       "    </tr>\n",
       "  </thead>\n",
       "  <tbody>\n",
       "    <tr>\n",
       "      <th>0</th>\n",
       "      <td>s1</td>\n",
       "      <td>Movie</td>\n",
       "      <td>Dick Johnson Is Dead</td>\n",
       "      <td>Kirsten Johnson</td>\n",
       "      <td>NaN</td>\n",
       "      <td>United States</td>\n",
       "      <td>September 25, 2021</td>\n",
       "      <td>2020</td>\n",
       "      <td>PG-13</td>\n",
       "      <td>90 min</td>\n",
       "      <td>Documentaries</td>\n",
       "      <td>As her father nears the end of his life, filmm...</td>\n",
       "    </tr>\n",
       "    <tr>\n",
       "      <th>1</th>\n",
       "      <td>s2</td>\n",
       "      <td>TV Show</td>\n",
       "      <td>Blood &amp; Water</td>\n",
       "      <td>NaN</td>\n",
       "      <td>Ama Qamata, Khosi Ngema, Gail Mabalane, Thaban...</td>\n",
       "      <td>South Africa</td>\n",
       "      <td>September 24, 2021</td>\n",
       "      <td>2021</td>\n",
       "      <td>TV-MA</td>\n",
       "      <td>2 Seasons</td>\n",
       "      <td>International TV Shows, TV Dramas, TV Mysteries</td>\n",
       "      <td>After crossing paths at a party, a Cape Town t...</td>\n",
       "    </tr>\n",
       "    <tr>\n",
       "      <th>2</th>\n",
       "      <td>s3</td>\n",
       "      <td>TV Show</td>\n",
       "      <td>Ganglands</td>\n",
       "      <td>Julien Leclercq</td>\n",
       "      <td>Sami Bouajila, Tracy Gotoas, Samuel Jouy, Nabi...</td>\n",
       "      <td>NaN</td>\n",
       "      <td>September 24, 2021</td>\n",
       "      <td>2021</td>\n",
       "      <td>TV-MA</td>\n",
       "      <td>1 Season</td>\n",
       "      <td>Crime TV Shows, International TV Shows, TV Act...</td>\n",
       "      <td>To protect his family from a powerful drug lor...</td>\n",
       "    </tr>\n",
       "    <tr>\n",
       "      <th>3</th>\n",
       "      <td>s4</td>\n",
       "      <td>TV Show</td>\n",
       "      <td>Jailbirds New Orleans</td>\n",
       "      <td>NaN</td>\n",
       "      <td>NaN</td>\n",
       "      <td>NaN</td>\n",
       "      <td>September 24, 2021</td>\n",
       "      <td>2021</td>\n",
       "      <td>TV-MA</td>\n",
       "      <td>1 Season</td>\n",
       "      <td>Docuseries, Reality TV</td>\n",
       "      <td>Feuds, flirtations and toilet talk go down amo...</td>\n",
       "    </tr>\n",
       "    <tr>\n",
       "      <th>4</th>\n",
       "      <td>s5</td>\n",
       "      <td>TV Show</td>\n",
       "      <td>Kota Factory</td>\n",
       "      <td>NaN</td>\n",
       "      <td>Mayur More, Jitendra Kumar, Ranjan Raj, Alam K...</td>\n",
       "      <td>India</td>\n",
       "      <td>September 24, 2021</td>\n",
       "      <td>2021</td>\n",
       "      <td>TV-MA</td>\n",
       "      <td>2 Seasons</td>\n",
       "      <td>International TV Shows, Romantic TV Shows, TV ...</td>\n",
       "      <td>In a city of coaching centers known to train I...</td>\n",
       "    </tr>\n",
       "  </tbody>\n",
       "</table>\n",
       "</div>"
      ],
      "text/plain": [
       "  show_id     type                  title         director  \\\n",
       "0      s1    Movie   Dick Johnson Is Dead  Kirsten Johnson   \n",
       "1      s2  TV Show          Blood & Water              NaN   \n",
       "2      s3  TV Show              Ganglands  Julien Leclercq   \n",
       "3      s4  TV Show  Jailbirds New Orleans              NaN   \n",
       "4      s5  TV Show           Kota Factory              NaN   \n",
       "\n",
       "                                                cast        country  \\\n",
       "0                                                NaN  United States   \n",
       "1  Ama Qamata, Khosi Ngema, Gail Mabalane, Thaban...   South Africa   \n",
       "2  Sami Bouajila, Tracy Gotoas, Samuel Jouy, Nabi...            NaN   \n",
       "3                                                NaN            NaN   \n",
       "4  Mayur More, Jitendra Kumar, Ranjan Raj, Alam K...          India   \n",
       "\n",
       "           date_added  release_year rating   duration  \\\n",
       "0  September 25, 2021          2020  PG-13     90 min   \n",
       "1  September 24, 2021          2021  TV-MA  2 Seasons   \n",
       "2  September 24, 2021          2021  TV-MA   1 Season   \n",
       "3  September 24, 2021          2021  TV-MA   1 Season   \n",
       "4  September 24, 2021          2021  TV-MA  2 Seasons   \n",
       "\n",
       "                                           listed_in  \\\n",
       "0                                      Documentaries   \n",
       "1    International TV Shows, TV Dramas, TV Mysteries   \n",
       "2  Crime TV Shows, International TV Shows, TV Act...   \n",
       "3                             Docuseries, Reality TV   \n",
       "4  International TV Shows, Romantic TV Shows, TV ...   \n",
       "\n",
       "                                         description  \n",
       "0  As her father nears the end of his life, filmm...  \n",
       "1  After crossing paths at a party, a Cape Town t...  \n",
       "2  To protect his family from a powerful drug lor...  \n",
       "3  Feuds, flirtations and toilet talk go down amo...  \n",
       "4  In a city of coaching centers known to train I...  "
      ]
     },
     "execution_count": 3,
     "metadata": {},
     "output_type": "execute_result"
    }
   ],
   "source": [
    "df_netflix = pd.read_csv('C:/Users/temp/Desktop/data-challenge-20221121-main/data/netflix_titles.csv')\n",
    "df_netflix.head()"
   ]
  },
  {
   "cell_type": "code",
   "execution_count": 4,
   "id": "e1b7e371",
   "metadata": {
    "ExecuteTime": {
     "end_time": "2023-03-24T03:33:43.476795Z",
     "start_time": "2023-03-24T03:33:43.321555Z"
    }
   },
   "outputs": [
    {
     "data": {
      "text/html": [
       "<div>\n",
       "<style scoped>\n",
       "    .dataframe tbody tr th:only-of-type {\n",
       "        vertical-align: middle;\n",
       "    }\n",
       "\n",
       "    .dataframe tbody tr th {\n",
       "        vertical-align: top;\n",
       "    }\n",
       "\n",
       "    .dataframe thead th {\n",
       "        text-align: right;\n",
       "    }\n",
       "</style>\n",
       "<table border=\"1\" class=\"dataframe\">\n",
       "  <thead>\n",
       "    <tr style=\"text-align: right;\">\n",
       "      <th></th>\n",
       "      <th>show_id</th>\n",
       "      <th>type</th>\n",
       "      <th>title</th>\n",
       "      <th>director</th>\n",
       "      <th>cast</th>\n",
       "      <th>country</th>\n",
       "      <th>date_added</th>\n",
       "      <th>release_year</th>\n",
       "      <th>rating</th>\n",
       "      <th>duration</th>\n",
       "      <th>listed_in</th>\n",
       "      <th>description</th>\n",
       "    </tr>\n",
       "  </thead>\n",
       "  <tbody>\n",
       "    <tr>\n",
       "      <th>0</th>\n",
       "      <td>s1</td>\n",
       "      <td>Movie</td>\n",
       "      <td>The Grand Seduction</td>\n",
       "      <td>Don McKellar</td>\n",
       "      <td>Brendan Gleeson, Taylor Kitsch, Gordon Pinsent</td>\n",
       "      <td>Canada</td>\n",
       "      <td>March 30, 2021</td>\n",
       "      <td>2014</td>\n",
       "      <td>NaN</td>\n",
       "      <td>113 min</td>\n",
       "      <td>Comedy, Drama</td>\n",
       "      <td>A small fishing village must procure a local d...</td>\n",
       "    </tr>\n",
       "    <tr>\n",
       "      <th>1</th>\n",
       "      <td>s2</td>\n",
       "      <td>Movie</td>\n",
       "      <td>Take Care Good Night</td>\n",
       "      <td>Girish Joshi</td>\n",
       "      <td>Mahesh Manjrekar, Abhay Mahajan, Sachin Khedekar</td>\n",
       "      <td>India</td>\n",
       "      <td>March 30, 2021</td>\n",
       "      <td>2018</td>\n",
       "      <td>13+</td>\n",
       "      <td>110 min</td>\n",
       "      <td>Drama, International</td>\n",
       "      <td>A Metro Family decides to fight a Cyber Crimin...</td>\n",
       "    </tr>\n",
       "    <tr>\n",
       "      <th>2</th>\n",
       "      <td>s3</td>\n",
       "      <td>Movie</td>\n",
       "      <td>Secrets of Deception</td>\n",
       "      <td>Josh Webber</td>\n",
       "      <td>Tom Sizemore, Lorenzo Lamas, Robert LaSardo, R...</td>\n",
       "      <td>United States</td>\n",
       "      <td>March 30, 2021</td>\n",
       "      <td>2017</td>\n",
       "      <td>NaN</td>\n",
       "      <td>74 min</td>\n",
       "      <td>Action, Drama, Suspense</td>\n",
       "      <td>After a man discovers his wife is cheating on ...</td>\n",
       "    </tr>\n",
       "    <tr>\n",
       "      <th>3</th>\n",
       "      <td>s4</td>\n",
       "      <td>Movie</td>\n",
       "      <td>Pink: Staying True</td>\n",
       "      <td>Sonia Anderson</td>\n",
       "      <td>Interviews with: Pink, Adele, Beyoncé, Britney...</td>\n",
       "      <td>United States</td>\n",
       "      <td>March 30, 2021</td>\n",
       "      <td>2014</td>\n",
       "      <td>NaN</td>\n",
       "      <td>69 min</td>\n",
       "      <td>Documentary</td>\n",
       "      <td>Pink breaks the mold once again, bringing her ...</td>\n",
       "    </tr>\n",
       "    <tr>\n",
       "      <th>4</th>\n",
       "      <td>s5</td>\n",
       "      <td>Movie</td>\n",
       "      <td>Monster Maker</td>\n",
       "      <td>Giles Foster</td>\n",
       "      <td>Harry Dean Stanton, Kieran O'Brien, George Cos...</td>\n",
       "      <td>United Kingdom</td>\n",
       "      <td>March 30, 2021</td>\n",
       "      <td>1989</td>\n",
       "      <td>NaN</td>\n",
       "      <td>45 min</td>\n",
       "      <td>Drama, Fantasy</td>\n",
       "      <td>Teenage Matt Banting wants to work with a famo...</td>\n",
       "    </tr>\n",
       "  </tbody>\n",
       "</table>\n",
       "</div>"
      ],
      "text/plain": [
       "  show_id   type                 title        director  \\\n",
       "0      s1  Movie   The Grand Seduction    Don McKellar   \n",
       "1      s2  Movie  Take Care Good Night    Girish Joshi   \n",
       "2      s3  Movie  Secrets of Deception     Josh Webber   \n",
       "3      s4  Movie    Pink: Staying True  Sonia Anderson   \n",
       "4      s5  Movie         Monster Maker    Giles Foster   \n",
       "\n",
       "                                                cast         country  \\\n",
       "0     Brendan Gleeson, Taylor Kitsch, Gordon Pinsent          Canada   \n",
       "1   Mahesh Manjrekar, Abhay Mahajan, Sachin Khedekar           India   \n",
       "2  Tom Sizemore, Lorenzo Lamas, Robert LaSardo, R...   United States   \n",
       "3  Interviews with: Pink, Adele, Beyoncé, Britney...   United States   \n",
       "4  Harry Dean Stanton, Kieran O'Brien, George Cos...  United Kingdom   \n",
       "\n",
       "       date_added  release_year rating duration                listed_in  \\\n",
       "0  March 30, 2021          2014    NaN  113 min            Comedy, Drama   \n",
       "1  March 30, 2021          2018    13+  110 min     Drama, International   \n",
       "2  March 30, 2021          2017    NaN   74 min  Action, Drama, Suspense   \n",
       "3  March 30, 2021          2014    NaN   69 min              Documentary   \n",
       "4  March 30, 2021          1989    NaN   45 min           Drama, Fantasy   \n",
       "\n",
       "                                         description  \n",
       "0  A small fishing village must procure a local d...  \n",
       "1  A Metro Family decides to fight a Cyber Crimin...  \n",
       "2  After a man discovers his wife is cheating on ...  \n",
       "3  Pink breaks the mold once again, bringing her ...  \n",
       "4  Teenage Matt Banting wants to work with a famo...  "
      ]
     },
     "execution_count": 4,
     "metadata": {},
     "output_type": "execute_result"
    }
   ],
   "source": [
    "df_amazon = pd.read_csv('C:/Users/temp/Desktop/data-challenge-20221121-main/data/amazon_prime_titles.csv')\n",
    "df_amazon.head()"
   ]
  },
  {
   "cell_type": "markdown",
   "id": "2e0cbfc7",
   "metadata": {},
   "source": [
    "# Entendendo os dados"
   ]
  },
  {
   "cell_type": "markdown",
   "id": "ab4524e0",
   "metadata": {},
   "source": [
    "## Shape DF"
   ]
  },
  {
   "cell_type": "code",
   "execution_count": 5,
   "id": "291fb582",
   "metadata": {
    "ExecuteTime": {
     "end_time": "2023-03-24T03:33:43.492586Z",
     "start_time": "2023-03-24T03:33:43.479554Z"
    }
   },
   "outputs": [
    {
     "name": "stdout",
     "output_type": "stream",
     "text": [
      "Shape Netflix DF\n",
      "Numero de Linhas: 8807\n",
      "Numero de Colunas: 12\n"
     ]
    }
   ],
   "source": [
    "print('Shape Netflix DF')\n",
    "print( 'Numero de Linhas: {}'.format( df_netflix.shape[0]))\n",
    "print( 'Numero de Colunas: {}'.format( df_netflix.shape[1]))"
   ]
  },
  {
   "cell_type": "code",
   "execution_count": 6,
   "id": "adb89a1d",
   "metadata": {
    "ExecuteTime": {
     "end_time": "2023-03-24T03:33:43.507556Z",
     "start_time": "2023-03-24T03:33:43.496760Z"
    }
   },
   "outputs": [
    {
     "name": "stdout",
     "output_type": "stream",
     "text": [
      "Shape Amazon Prime DF\n",
      "Numero de Linhas: 9668\n",
      "Numero de Colunas: 12\n"
     ]
    }
   ],
   "source": [
    "print('Shape Amazon Prime DF')\n",
    "print( 'Numero de Linhas: {}'.format( df_amazon.shape[0]))\n",
    "print( 'Numero de Colunas: {}'.format( df_amazon.shape[1]))"
   ]
  },
  {
   "cell_type": "markdown",
   "id": "e4f6a959",
   "metadata": {},
   "source": [
    "- Ambos os Dataframes possuem 12 colunas, no entanto o Amazon DF possui mais linhas o que Netflix DF"
   ]
  },
  {
   "cell_type": "markdown",
   "id": "fe920e89",
   "metadata": {},
   "source": [
    "## Missing Values"
   ]
  },
  {
   "cell_type": "code",
   "execution_count": 7,
   "id": "14e64ab4",
   "metadata": {
    "ExecuteTime": {
     "end_time": "2023-03-24T03:33:43.659589Z",
     "start_time": "2023-03-24T03:33:43.511601Z"
    }
   },
   "outputs": [
    {
     "data": {
      "text/plain": [
       "show_id          0.00\n",
       "type             0.00\n",
       "title            0.00\n",
       "director        29.91\n",
       "cast             9.37\n",
       "country          9.44\n",
       "date_added       0.11\n",
       "release_year     0.00\n",
       "rating           0.05\n",
       "duration         0.03\n",
       "listed_in        0.00\n",
       "description      0.00\n",
       "dtype: float64"
      ]
     },
     "execution_count": 7,
     "metadata": {},
     "output_type": "execute_result"
    }
   ],
   "source": [
    "# Netflix\n",
    "porcentagem_netflix = np.round(df_netflix.isnull().sum() / df_netflix.shape[0] * 100,2)\n",
    "porcentagem_netflix"
   ]
  },
  {
   "cell_type": "markdown",
   "id": "0a6565a7",
   "metadata": {},
   "source": [
    "- Quase 30% dos filmes/séries não possuem informação a respeito do diretor no DF do Netflix. "
   ]
  },
  {
   "cell_type": "code",
   "execution_count": 8,
   "id": "6bf16977",
   "metadata": {
    "ExecuteTime": {
     "end_time": "2023-03-24T03:33:43.705687Z",
     "start_time": "2023-03-24T03:33:43.666580Z"
    }
   },
   "outputs": [
    {
     "data": {
      "text/plain": [
       "show_id          0.00\n",
       "type             0.00\n",
       "title            0.00\n",
       "director        21.53\n",
       "cast            12.75\n",
       "country         93.05\n",
       "date_added      98.40\n",
       "release_year     0.00\n",
       "rating           3.49\n",
       "duration         0.00\n",
       "listed_in        0.00\n",
       "description      0.00\n",
       "dtype: float64"
      ]
     },
     "execution_count": 8,
     "metadata": {},
     "output_type": "execute_result"
    }
   ],
   "source": [
    "# Amazon Prime\n",
    "porcentagem_amazon = np.round(df_amazon.isnull().sum() / df_amazon.shape[0] * 100,2)\n",
    "porcentagem_amazon"
   ]
  },
  {
   "cell_type": "markdown",
   "id": "01e51210",
   "metadata": {},
   "source": [
    "- Quase 90% dos conteudos não possuem informação a respeito da data de adição na plataforma no DF de Amazon. 93% dos contéudos não tem informação sobre o país de origem."
   ]
  },
  {
   "cell_type": "markdown",
   "id": "670534bd",
   "metadata": {},
   "source": [
    "## Verificar se há valores duplicados"
   ]
  },
  {
   "cell_type": "code",
   "execution_count": 9,
   "id": "5344319a",
   "metadata": {
    "ExecuteTime": {
     "end_time": "2023-03-24T03:33:43.768549Z",
     "start_time": "2023-03-24T03:33:43.711546Z"
    }
   },
   "outputs": [
    {
     "name": "stdout",
     "output_type": "stream",
     "text": [
      "Empty DataFrame\n",
      "Columns: [show_id, type, title, director, cast, country, date_added, release_year, rating, duration, listed_in, description]\n",
      "Index: []\n"
     ]
    }
   ],
   "source": [
    "# Netflix\n",
    "\n",
    "duplicatas_netflix = df_netflix.duplicated()\n",
    "linhas_duplicadas_netflix = df_netflix[duplicatas_netflix]\n",
    "print(linhas_duplicadas_netflix)"
   ]
  },
  {
   "cell_type": "code",
   "execution_count": 10,
   "id": "e350a050",
   "metadata": {
    "ExecuteTime": {
     "end_time": "2023-03-24T03:33:43.831547Z",
     "start_time": "2023-03-24T03:33:43.773686Z"
    }
   },
   "outputs": [
    {
     "name": "stdout",
     "output_type": "stream",
     "text": [
      "Empty DataFrame\n",
      "Columns: [show_id, type, title, director, cast, country, date_added, release_year, rating, duration, listed_in, description]\n",
      "Index: []\n"
     ]
    }
   ],
   "source": [
    "# Netflix\n",
    "\n",
    "duplicatas_amazon = df_amazon.duplicated()\n",
    "linhas_duplicadas_amazon = df_amazon[duplicatas_amazon]\n",
    "print(linhas_duplicadas_amazon)"
   ]
  },
  {
   "cell_type": "markdown",
   "id": "ad2a3c5c",
   "metadata": {},
   "source": [
    "- Não existem observações duplicadas em ambos dataframes"
   ]
  },
  {
   "cell_type": "markdown",
   "id": "713c464c",
   "metadata": {},
   "source": [
    "## Verificar se há conteúdos presente em ambos DF"
   ]
  },
  {
   "cell_type": "code",
   "execution_count": 11,
   "id": "fb3bdcc2",
   "metadata": {
    "ExecuteTime": {
     "end_time": "2023-03-24T03:33:43.862547Z",
     "start_time": "2023-03-24T03:33:43.834552Z"
    }
   },
   "outputs": [
    {
     "data": {
      "text/html": [
       "<div>\n",
       "<style scoped>\n",
       "    .dataframe tbody tr th:only-of-type {\n",
       "        vertical-align: middle;\n",
       "    }\n",
       "\n",
       "    .dataframe tbody tr th {\n",
       "        vertical-align: top;\n",
       "    }\n",
       "\n",
       "    .dataframe thead th {\n",
       "        text-align: right;\n",
       "    }\n",
       "</style>\n",
       "<table border=\"1\" class=\"dataframe\">\n",
       "  <thead>\n",
       "    <tr style=\"text-align: right;\">\n",
       "      <th></th>\n",
       "      <th>show_id</th>\n",
       "      <th>type</th>\n",
       "      <th>title</th>\n",
       "      <th>director</th>\n",
       "      <th>cast</th>\n",
       "      <th>country</th>\n",
       "      <th>date_added</th>\n",
       "      <th>release_year</th>\n",
       "      <th>rating</th>\n",
       "      <th>duration</th>\n",
       "      <th>listed_in</th>\n",
       "      <th>description</th>\n",
       "    </tr>\n",
       "  </thead>\n",
       "  <tbody>\n",
       "    <tr>\n",
       "      <th>0</th>\n",
       "      <td>s1</td>\n",
       "      <td>Movie</td>\n",
       "      <td>The Grand Seduction</td>\n",
       "      <td>Don McKellar</td>\n",
       "      <td>Brendan Gleeson, Taylor Kitsch, Gordon Pinsent</td>\n",
       "      <td>Canada</td>\n",
       "      <td>March 30, 2021</td>\n",
       "      <td>2014</td>\n",
       "      <td>NaN</td>\n",
       "      <td>113 min</td>\n",
       "      <td>Comedy, Drama</td>\n",
       "      <td>A small fishing village must procure a local d...</td>\n",
       "    </tr>\n",
       "  </tbody>\n",
       "</table>\n",
       "</div>"
      ],
      "text/plain": [
       "  show_id   type                title      director  \\\n",
       "0      s1  Movie  The Grand Seduction  Don McKellar   \n",
       "\n",
       "                                             cast country      date_added  \\\n",
       "0  Brendan Gleeson, Taylor Kitsch, Gordon Pinsent  Canada  March 30, 2021   \n",
       "\n",
       "   release_year rating duration      listed_in  \\\n",
       "0          2014    NaN  113 min  Comedy, Drama   \n",
       "\n",
       "                                         description  \n",
       "0  A small fishing village must procure a local d...  "
      ]
     },
     "execution_count": 11,
     "metadata": {},
     "output_type": "execute_result"
    }
   ],
   "source": [
    "df_amazon.head(1)"
   ]
  },
  {
   "cell_type": "code",
   "execution_count": 12,
   "id": "70c35f27",
   "metadata": {
    "ExecuteTime": {
     "end_time": "2023-03-24T03:33:43.893551Z",
     "start_time": "2023-03-24T03:33:43.865547Z"
    }
   },
   "outputs": [
    {
     "data": {
      "text/html": [
       "<div>\n",
       "<style scoped>\n",
       "    .dataframe tbody tr th:only-of-type {\n",
       "        vertical-align: middle;\n",
       "    }\n",
       "\n",
       "    .dataframe tbody tr th {\n",
       "        vertical-align: top;\n",
       "    }\n",
       "\n",
       "    .dataframe thead th {\n",
       "        text-align: right;\n",
       "    }\n",
       "</style>\n",
       "<table border=\"1\" class=\"dataframe\">\n",
       "  <thead>\n",
       "    <tr style=\"text-align: right;\">\n",
       "      <th></th>\n",
       "      <th>show_id</th>\n",
       "      <th>type</th>\n",
       "      <th>title</th>\n",
       "      <th>director</th>\n",
       "      <th>cast</th>\n",
       "      <th>country</th>\n",
       "      <th>date_added</th>\n",
       "      <th>release_year</th>\n",
       "      <th>rating</th>\n",
       "      <th>duration</th>\n",
       "      <th>listed_in</th>\n",
       "      <th>description</th>\n",
       "    </tr>\n",
       "  </thead>\n",
       "  <tbody>\n",
       "    <tr>\n",
       "      <th>0</th>\n",
       "      <td>s1</td>\n",
       "      <td>Movie</td>\n",
       "      <td>Dick Johnson Is Dead</td>\n",
       "      <td>Kirsten Johnson</td>\n",
       "      <td>NaN</td>\n",
       "      <td>United States</td>\n",
       "      <td>September 25, 2021</td>\n",
       "      <td>2020</td>\n",
       "      <td>PG-13</td>\n",
       "      <td>90 min</td>\n",
       "      <td>Documentaries</td>\n",
       "      <td>As her father nears the end of his life, filmm...</td>\n",
       "    </tr>\n",
       "  </tbody>\n",
       "</table>\n",
       "</div>"
      ],
      "text/plain": [
       "  show_id   type                 title         director cast        country  \\\n",
       "0      s1  Movie  Dick Johnson Is Dead  Kirsten Johnson  NaN  United States   \n",
       "\n",
       "           date_added  release_year rating duration      listed_in  \\\n",
       "0  September 25, 2021          2020  PG-13   90 min  Documentaries   \n",
       "\n",
       "                                         description  \n",
       "0  As her father nears the end of his life, filmm...  "
      ]
     },
     "execution_count": 12,
     "metadata": {},
     "output_type": "execute_result"
    }
   ],
   "source": [
    "df_netflix.head(1)"
   ]
  },
  {
   "cell_type": "code",
   "execution_count": 13,
   "id": "6e4253c9",
   "metadata": {
    "ExecuteTime": {
     "end_time": "2023-03-24T03:33:43.908712Z",
     "start_time": "2023-03-24T03:33:43.896551Z"
    }
   },
   "outputs": [],
   "source": [
    "array_title_netflix = df_netflix.title.unique()\n",
    "array_title_amazon = df_amazon.title.unique()\n"
   ]
  },
  {
   "cell_type": "code",
   "execution_count": 14,
   "id": "76f972a6",
   "metadata": {
    "ExecuteTime": {
     "end_time": "2023-03-24T03:33:43.924588Z",
     "start_time": "2023-03-24T03:33:43.911590Z"
    }
   },
   "outputs": [
    {
     "name": "stdout",
     "output_type": "stream",
     "text": [
      "5 títlos em comum: \n",
      " ['Truth or Dare', 'Flash of Genius', 'Burning', 'Paranoia', '21']\n",
      "\n",
      "\n",
      "No total temos 389 títulos em comum em ambos os DF\n"
     ]
    }
   ],
   "source": [
    "title_comuns = list(set(array_title_netflix) & set(array_title_amazon))\n",
    "\n",
    "print('5 títlos em comum: \\n',title_comuns[:5])\n",
    "print('\\n')\n",
    "print(f'No total temos {len(title_comuns)} títulos em comum em ambos os DF')"
   ]
  },
  {
   "cell_type": "markdown",
   "id": "b61dbdad",
   "metadata": {},
   "source": [
    "# Feature Engineering"
   ]
  },
  {
   "cell_type": "code",
   "execution_count": 19,
   "id": "f9e32977",
   "metadata": {
    "ExecuteTime": {
     "end_time": "2023-03-24T03:33:44.096586Z",
     "start_time": "2023-03-24T03:33:44.083595Z"
    }
   },
   "outputs": [],
   "source": [
    "array_df = [df_netflix, df_amazon]"
   ]
  },
  {
   "cell_type": "code",
   "execution_count": 20,
   "id": "2b77bc73",
   "metadata": {
    "ExecuteTime": {
     "end_time": "2023-03-24T03:33:44.453440Z",
     "start_time": "2023-03-24T03:33:44.099588Z"
    }
   },
   "outputs": [],
   "source": [
    "for df in array_df:\n",
    "    df[\"date_added\"] = pd.to_datetime(df['date_added'])\n",
    "    df['month_added']=df['date_added'].dt.month\n",
    "    df['year_added'] = df['date_added'].dt.year"
   ]
  },
  {
   "cell_type": "code",
   "execution_count": 21,
   "id": "83cdf58e",
   "metadata": {
    "ExecuteTime": {
     "end_time": "2023-03-24T03:33:44.469435Z",
     "start_time": "2023-03-24T03:33:44.456929Z"
    }
   },
   "outputs": [],
   "source": [
    "#Atribuir o nome do mês na base de dados\n",
    "dmap_mes = {1:'JAN',2:'FEV',3:'MAR',4:'ABR',5:'MAI',6:'JUN',7:'JUL',8:'AGO',9:'SET',10:'OUT',11:'NOV',12:'DEZ'}\n",
    "\n",
    "for df in array_df:\n",
    "    df['month_added'] = df['month_added'].map(dmap_mes)"
   ]
  },
  {
   "cell_type": "code",
   "execution_count": 22,
   "id": "543da621",
   "metadata": {
    "ExecuteTime": {
     "end_time": "2023-03-24T03:33:44.485458Z",
     "start_time": "2023-03-24T03:33:44.472403Z"
    }
   },
   "outputs": [],
   "source": [
    "df_netflix['plataform'] = 'Netflix'\n",
    "df_amazon['plataform'] = 'Amazon_Prime'"
   ]
  },
  {
   "cell_type": "markdown",
   "id": "14ab7bec",
   "metadata": {},
   "source": [
    "## Mesclando Ambos os DF"
   ]
  },
  {
   "cell_type": "code",
   "execution_count": 23,
   "id": "361c0ea0",
   "metadata": {
    "ExecuteTime": {
     "end_time": "2023-03-24T03:33:44.564596Z",
     "start_time": "2023-03-24T03:33:44.494446Z"
    }
   },
   "outputs": [
    {
     "data": {
      "text/html": [
       "<div>\n",
       "<style scoped>\n",
       "    .dataframe tbody tr th:only-of-type {\n",
       "        vertical-align: middle;\n",
       "    }\n",
       "\n",
       "    .dataframe tbody tr th {\n",
       "        vertical-align: top;\n",
       "    }\n",
       "\n",
       "    .dataframe thead th {\n",
       "        text-align: right;\n",
       "    }\n",
       "</style>\n",
       "<table border=\"1\" class=\"dataframe\">\n",
       "  <thead>\n",
       "    <tr style=\"text-align: right;\">\n",
       "      <th></th>\n",
       "      <th>show_id</th>\n",
       "      <th>type</th>\n",
       "      <th>title</th>\n",
       "      <th>director</th>\n",
       "      <th>cast</th>\n",
       "      <th>country</th>\n",
       "      <th>date_added</th>\n",
       "      <th>release_year</th>\n",
       "      <th>rating</th>\n",
       "      <th>duration</th>\n",
       "      <th>listed_in</th>\n",
       "      <th>description</th>\n",
       "      <th>month_added</th>\n",
       "      <th>year_added</th>\n",
       "      <th>plataform</th>\n",
       "    </tr>\n",
       "  </thead>\n",
       "  <tbody>\n",
       "    <tr>\n",
       "      <th>0</th>\n",
       "      <td>s1</td>\n",
       "      <td>Movie</td>\n",
       "      <td>Dick Johnson Is Dead</td>\n",
       "      <td>Kirsten Johnson</td>\n",
       "      <td>NaN</td>\n",
       "      <td>United States</td>\n",
       "      <td>2021-09-25</td>\n",
       "      <td>2020</td>\n",
       "      <td>PG-13</td>\n",
       "      <td>90 min</td>\n",
       "      <td>Documentaries</td>\n",
       "      <td>As her father nears the end of his life, filmm...</td>\n",
       "      <td>SET</td>\n",
       "      <td>2021.0</td>\n",
       "      <td>Netflix</td>\n",
       "    </tr>\n",
       "    <tr>\n",
       "      <th>1</th>\n",
       "      <td>s2</td>\n",
       "      <td>TV Show</td>\n",
       "      <td>Blood &amp; Water</td>\n",
       "      <td>NaN</td>\n",
       "      <td>Ama Qamata, Khosi Ngema, Gail Mabalane, Thaban...</td>\n",
       "      <td>South Africa</td>\n",
       "      <td>2021-09-24</td>\n",
       "      <td>2021</td>\n",
       "      <td>TV-MA</td>\n",
       "      <td>2 Seasons</td>\n",
       "      <td>International TV Shows, TV Dramas, TV Mysteries</td>\n",
       "      <td>After crossing paths at a party, a Cape Town t...</td>\n",
       "      <td>SET</td>\n",
       "      <td>2021.0</td>\n",
       "      <td>Netflix</td>\n",
       "    </tr>\n",
       "    <tr>\n",
       "      <th>2</th>\n",
       "      <td>s3</td>\n",
       "      <td>TV Show</td>\n",
       "      <td>Ganglands</td>\n",
       "      <td>Julien Leclercq</td>\n",
       "      <td>Sami Bouajila, Tracy Gotoas, Samuel Jouy, Nabi...</td>\n",
       "      <td>NaN</td>\n",
       "      <td>2021-09-24</td>\n",
       "      <td>2021</td>\n",
       "      <td>TV-MA</td>\n",
       "      <td>1 Season</td>\n",
       "      <td>Crime TV Shows, International TV Shows, TV Act...</td>\n",
       "      <td>To protect his family from a powerful drug lor...</td>\n",
       "      <td>SET</td>\n",
       "      <td>2021.0</td>\n",
       "      <td>Netflix</td>\n",
       "    </tr>\n",
       "  </tbody>\n",
       "</table>\n",
       "</div>"
      ],
      "text/plain": [
       "  show_id     type                 title         director  \\\n",
       "0      s1    Movie  Dick Johnson Is Dead  Kirsten Johnson   \n",
       "1      s2  TV Show         Blood & Water              NaN   \n",
       "2      s3  TV Show             Ganglands  Julien Leclercq   \n",
       "\n",
       "                                                cast        country  \\\n",
       "0                                                NaN  United States   \n",
       "1  Ama Qamata, Khosi Ngema, Gail Mabalane, Thaban...   South Africa   \n",
       "2  Sami Bouajila, Tracy Gotoas, Samuel Jouy, Nabi...            NaN   \n",
       "\n",
       "  date_added  release_year rating   duration  \\\n",
       "0 2021-09-25          2020  PG-13     90 min   \n",
       "1 2021-09-24          2021  TV-MA  2 Seasons   \n",
       "2 2021-09-24          2021  TV-MA   1 Season   \n",
       "\n",
       "                                           listed_in  \\\n",
       "0                                      Documentaries   \n",
       "1    International TV Shows, TV Dramas, TV Mysteries   \n",
       "2  Crime TV Shows, International TV Shows, TV Act...   \n",
       "\n",
       "                                         description month_added  year_added  \\\n",
       "0  As her father nears the end of his life, filmm...         SET      2021.0   \n",
       "1  After crossing paths at a party, a Cape Town t...         SET      2021.0   \n",
       "2  To protect his family from a powerful drug lor...         SET      2021.0   \n",
       "\n",
       "  plataform  \n",
       "0   Netflix  \n",
       "1   Netflix  \n",
       "2   Netflix  "
      ]
     },
     "execution_count": 23,
     "metadata": {},
     "output_type": "execute_result"
    }
   ],
   "source": [
    "# concatenando os dataframes\n",
    "df_final = pd.concat([df_netflix, df_amazon], join='inner', ignore_index=True)\n",
    "df_final.head(3)"
   ]
  },
  {
   "cell_type": "code",
   "execution_count": 25,
   "id": "8b7455aa",
   "metadata": {
    "ExecuteTime": {
     "end_time": "2023-03-24T03:34:06.362441Z",
     "start_time": "2023-03-24T03:34:06.347254Z"
    }
   },
   "outputs": [
    {
     "data": {
      "text/plain": [
       "(18475, 15)"
      ]
     },
     "execution_count": 25,
     "metadata": {},
     "output_type": "execute_result"
    }
   ],
   "source": [
    "df_final.shape"
   ]
  },
  {
   "cell_type": "markdown",
   "id": "12d053c1",
   "metadata": {},
   "source": [
    "- Criou-se uma nova coluna em ambos os dataframes para indicar a plataforma dos conteudos. Verificou-se que há 389 conteúdos em ambos os dataframes. O código abaixo é para remover os títulos duplicados e daremos preferência para o título que tiver o maior número de colunas não nulas."
   ]
  },
  {
   "cell_type": "code",
   "execution_count": 26,
   "id": "912c2e87",
   "metadata": {
    "ExecuteTime": {
     "end_time": "2023-03-24T03:34:07.297273Z",
     "start_time": "2023-03-24T03:34:07.252621Z"
    }
   },
   "outputs": [
    {
     "data": {
      "text/html": [
       "<div>\n",
       "<style scoped>\n",
       "    .dataframe tbody tr th:only-of-type {\n",
       "        vertical-align: middle;\n",
       "    }\n",
       "\n",
       "    .dataframe tbody tr th {\n",
       "        vertical-align: top;\n",
       "    }\n",
       "\n",
       "    .dataframe thead th {\n",
       "        text-align: right;\n",
       "    }\n",
       "</style>\n",
       "<table border=\"1\" class=\"dataframe\">\n",
       "  <thead>\n",
       "    <tr style=\"text-align: right;\">\n",
       "      <th></th>\n",
       "      <th>show_id</th>\n",
       "      <th>type</th>\n",
       "      <th>title</th>\n",
       "      <th>director</th>\n",
       "      <th>cast</th>\n",
       "      <th>country</th>\n",
       "      <th>date_added</th>\n",
       "      <th>release_year</th>\n",
       "      <th>rating</th>\n",
       "      <th>duration</th>\n",
       "      <th>listed_in</th>\n",
       "      <th>description</th>\n",
       "      <th>month_added</th>\n",
       "      <th>year_added</th>\n",
       "      <th>plataform</th>\n",
       "    </tr>\n",
       "  </thead>\n",
       "  <tbody>\n",
       "    <tr>\n",
       "      <th>3084</th>\n",
       "      <td>s3085</td>\n",
       "      <td>TV Show</td>\n",
       "      <td>Rainbow Ruby</td>\n",
       "      <td>NaN</td>\n",
       "      <td>Alyssya Swales, Shannon Chan-Kent, Brian Drumm...</td>\n",
       "      <td>South Korea, Canada, United States, China</td>\n",
       "      <td>2019-12-31</td>\n",
       "      <td>2016</td>\n",
       "      <td>TV-Y</td>\n",
       "      <td>1 Season</td>\n",
       "      <td>Kids' TV</td>\n",
       "      <td>Ruby makes magical journeys with her teddy bea...</td>\n",
       "      <td>DEZ</td>\n",
       "      <td>2019.0</td>\n",
       "      <td>Netflix</td>\n",
       "    </tr>\n",
       "  </tbody>\n",
       "</table>\n",
       "</div>"
      ],
      "text/plain": [
       "     show_id     type         title director  \\\n",
       "3084   s3085  TV Show  Rainbow Ruby      NaN   \n",
       "\n",
       "                                                   cast  \\\n",
       "3084  Alyssya Swales, Shannon Chan-Kent, Brian Drumm...   \n",
       "\n",
       "                                        country date_added  release_year  \\\n",
       "3084  South Korea, Canada, United States, China 2019-12-31          2016   \n",
       "\n",
       "     rating  duration listed_in  \\\n",
       "3084   TV-Y  1 Season  Kids' TV   \n",
       "\n",
       "                                            description month_added  \\\n",
       "3084  Ruby makes magical journeys with her teddy bea...         DEZ   \n",
       "\n",
       "      year_added plataform  \n",
       "3084      2019.0   Netflix  "
      ]
     },
     "execution_count": 26,
     "metadata": {},
     "output_type": "execute_result"
    }
   ],
   "source": [
    "df_netflix.query('title == \"Rainbow Ruby\"')"
   ]
  },
  {
   "cell_type": "code",
   "execution_count": 27,
   "id": "f2748e9b",
   "metadata": {
    "ExecuteTime": {
     "end_time": "2023-03-24T03:34:08.202290Z",
     "start_time": "2023-03-24T03:34:08.174287Z"
    }
   },
   "outputs": [
    {
     "data": {
      "text/html": [
       "<div>\n",
       "<style scoped>\n",
       "    .dataframe tbody tr th:only-of-type {\n",
       "        vertical-align: middle;\n",
       "    }\n",
       "\n",
       "    .dataframe tbody tr th {\n",
       "        vertical-align: top;\n",
       "    }\n",
       "\n",
       "    .dataframe thead th {\n",
       "        text-align: right;\n",
       "    }\n",
       "</style>\n",
       "<table border=\"1\" class=\"dataframe\">\n",
       "  <thead>\n",
       "    <tr style=\"text-align: right;\">\n",
       "      <th></th>\n",
       "      <th>show_id</th>\n",
       "      <th>type</th>\n",
       "      <th>title</th>\n",
       "      <th>director</th>\n",
       "      <th>cast</th>\n",
       "      <th>country</th>\n",
       "      <th>date_added</th>\n",
       "      <th>release_year</th>\n",
       "      <th>rating</th>\n",
       "      <th>duration</th>\n",
       "      <th>listed_in</th>\n",
       "      <th>description</th>\n",
       "      <th>month_added</th>\n",
       "      <th>year_added</th>\n",
       "      <th>plataform</th>\n",
       "    </tr>\n",
       "  </thead>\n",
       "  <tbody>\n",
       "    <tr>\n",
       "      <th>1217</th>\n",
       "      <td>s1218</td>\n",
       "      <td>TV Show</td>\n",
       "      <td>Rainbow Ruby</td>\n",
       "      <td>NaN</td>\n",
       "      <td>NaN</td>\n",
       "      <td>NaN</td>\n",
       "      <td>NaT</td>\n",
       "      <td>2016</td>\n",
       "      <td>TV-Y</td>\n",
       "      <td>1 Season</td>\n",
       "      <td>Animation, Kids</td>\n",
       "      <td>Rainbow Ruby comes to the rescue whenever a do...</td>\n",
       "      <td>NaN</td>\n",
       "      <td>NaN</td>\n",
       "      <td>Amazon_Prime</td>\n",
       "    </tr>\n",
       "  </tbody>\n",
       "</table>\n",
       "</div>"
      ],
      "text/plain": [
       "     show_id     type         title director cast country date_added  \\\n",
       "1217   s1218  TV Show  Rainbow Ruby      NaN  NaN     NaN        NaT   \n",
       "\n",
       "      release_year rating  duration        listed_in  \\\n",
       "1217          2016   TV-Y  1 Season  Animation, Kids   \n",
       "\n",
       "                                            description month_added  \\\n",
       "1217  Rainbow Ruby comes to the rescue whenever a do...         NaN   \n",
       "\n",
       "      year_added     plataform  \n",
       "1217         NaN  Amazon_Prime  "
      ]
     },
     "execution_count": 27,
     "metadata": {},
     "output_type": "execute_result"
    }
   ],
   "source": [
    "df_amazon.query('title == \"Rainbow Ruby\"')"
   ]
  },
  {
   "cell_type": "markdown",
   "id": "f1f7735a",
   "metadata": {},
   "source": [
    "- Nas células acima, filtramos o titulo \"Rainbow Ruby\" em ambos os DF, nesse caso, queremos manter esse título quando ele aparece no DF do Netflix, pois ele possui mais info nesse DF."
   ]
  },
  {
   "cell_type": "code",
   "execution_count": 28,
   "id": "afc703df",
   "metadata": {
    "ExecuteTime": {
     "end_time": "2023-03-24T03:34:09.105425Z",
     "start_time": "2023-03-24T03:34:08.935426Z"
    }
   },
   "outputs": [],
   "source": [
    "df_final = df_final.sort_values(\n",
    "    by=['director', 'cast', 'country', 'date_added',\n",
    "        'release_year', 'rating', 'duration', 'listed_in',\n",
    "        'description'], na_position='last').drop_duplicates(subset=['title'], keep='first')\n"
   ]
  },
  {
   "cell_type": "code",
   "execution_count": 29,
   "id": "69ba0c77",
   "metadata": {
    "ExecuteTime": {
     "end_time": "2023-03-24T03:34:10.062217Z",
     "start_time": "2023-03-24T03:34:10.021163Z"
    }
   },
   "outputs": [
    {
     "data": {
      "text/html": [
       "<div>\n",
       "<style scoped>\n",
       "    .dataframe tbody tr th:only-of-type {\n",
       "        vertical-align: middle;\n",
       "    }\n",
       "\n",
       "    .dataframe tbody tr th {\n",
       "        vertical-align: top;\n",
       "    }\n",
       "\n",
       "    .dataframe thead th {\n",
       "        text-align: right;\n",
       "    }\n",
       "</style>\n",
       "<table border=\"1\" class=\"dataframe\">\n",
       "  <thead>\n",
       "    <tr style=\"text-align: right;\">\n",
       "      <th></th>\n",
       "      <th>show_id</th>\n",
       "      <th>type</th>\n",
       "      <th>title</th>\n",
       "      <th>director</th>\n",
       "      <th>cast</th>\n",
       "      <th>country</th>\n",
       "      <th>date_added</th>\n",
       "      <th>release_year</th>\n",
       "      <th>rating</th>\n",
       "      <th>duration</th>\n",
       "      <th>listed_in</th>\n",
       "      <th>description</th>\n",
       "      <th>month_added</th>\n",
       "      <th>year_added</th>\n",
       "      <th>plataform</th>\n",
       "    </tr>\n",
       "  </thead>\n",
       "  <tbody>\n",
       "    <tr>\n",
       "      <th>3084</th>\n",
       "      <td>s3085</td>\n",
       "      <td>TV Show</td>\n",
       "      <td>Rainbow Ruby</td>\n",
       "      <td>NaN</td>\n",
       "      <td>Alyssya Swales, Shannon Chan-Kent, Brian Drumm...</td>\n",
       "      <td>South Korea, Canada, United States, China</td>\n",
       "      <td>2019-12-31</td>\n",
       "      <td>2016</td>\n",
       "      <td>TV-Y</td>\n",
       "      <td>1 Season</td>\n",
       "      <td>Kids' TV</td>\n",
       "      <td>Ruby makes magical journeys with her teddy bea...</td>\n",
       "      <td>DEZ</td>\n",
       "      <td>2019.0</td>\n",
       "      <td>Netflix</td>\n",
       "    </tr>\n",
       "  </tbody>\n",
       "</table>\n",
       "</div>"
      ],
      "text/plain": [
       "     show_id     type         title director  \\\n",
       "3084   s3085  TV Show  Rainbow Ruby      NaN   \n",
       "\n",
       "                                                   cast  \\\n",
       "3084  Alyssya Swales, Shannon Chan-Kent, Brian Drumm...   \n",
       "\n",
       "                                        country date_added  release_year  \\\n",
       "3084  South Korea, Canada, United States, China 2019-12-31          2016   \n",
       "\n",
       "     rating  duration listed_in  \\\n",
       "3084   TV-Y  1 Season  Kids' TV   \n",
       "\n",
       "                                            description month_added  \\\n",
       "3084  Ruby makes magical journeys with her teddy bea...         DEZ   \n",
       "\n",
       "      year_added plataform  \n",
       "3084      2019.0   Netflix  "
      ]
     },
     "execution_count": 29,
     "metadata": {},
     "output_type": "execute_result"
    }
   ],
   "source": [
    "df_final.query('title == \"Rainbow Ruby\"')"
   ]
  },
  {
   "cell_type": "markdown",
   "id": "93edec77",
   "metadata": {
    "ExecuteTime": {
     "end_time": "2023-03-22T02:10:49.293966Z",
     "start_time": "2023-03-22T02:10:49.267838Z"
    }
   },
   "source": [
    "- Na célula acima, percebemos que atingimos o objetivo. Mantemos o titulo \"Rainbow Ruby\" com origem no netflix."
   ]
  },
  {
   "cell_type": "markdown",
   "id": "f08d4f61",
   "metadata": {},
   "source": [
    "# EDA"
   ]
  },
  {
   "cell_type": "markdown",
   "id": "f2016fae",
   "metadata": {},
   "source": [
    "## Top 10 Atores/Atrizes"
   ]
  },
  {
   "cell_type": "code",
   "execution_count": 30,
   "id": "3e4b74fa",
   "metadata": {
    "ExecuteTime": {
     "end_time": "2023-03-24T03:34:10.908647Z",
     "start_time": "2023-03-24T03:34:10.886009Z"
    }
   },
   "outputs": [
    {
     "data": {
      "text/plain": [
       "array(['1', '1', '1', ..., nan, nan, nan], dtype=object)"
      ]
     },
     "execution_count": 30,
     "metadata": {},
     "output_type": "execute_result"
    }
   ],
   "source": [
    "df_final.cast.values"
   ]
  },
  {
   "cell_type": "code",
   "execution_count": 31,
   "id": "30ecf654",
   "metadata": {
    "ExecuteTime": {
     "end_time": "2023-03-24T03:34:11.736318Z",
     "start_time": "2023-03-24T03:34:11.692723Z"
    }
   },
   "outputs": [
    {
     "data": {
      "text/html": [
       "<div>\n",
       "<style scoped>\n",
       "    .dataframe tbody tr th:only-of-type {\n",
       "        vertical-align: middle;\n",
       "    }\n",
       "\n",
       "    .dataframe tbody tr th {\n",
       "        vertical-align: top;\n",
       "    }\n",
       "\n",
       "    .dataframe thead th {\n",
       "        text-align: right;\n",
       "    }\n",
       "</style>\n",
       "<table border=\"1\" class=\"dataframe\">\n",
       "  <thead>\n",
       "    <tr style=\"text-align: right;\">\n",
       "      <th></th>\n",
       "      <th>show_id</th>\n",
       "      <th>type</th>\n",
       "      <th>title</th>\n",
       "      <th>director</th>\n",
       "      <th>cast</th>\n",
       "      <th>country</th>\n",
       "      <th>date_added</th>\n",
       "      <th>release_year</th>\n",
       "      <th>rating</th>\n",
       "      <th>duration</th>\n",
       "      <th>listed_in</th>\n",
       "      <th>description</th>\n",
       "      <th>month_added</th>\n",
       "      <th>year_added</th>\n",
       "      <th>plataform</th>\n",
       "    </tr>\n",
       "  </thead>\n",
       "  <tbody>\n",
       "    <tr>\n",
       "      <th>15946</th>\n",
       "      <td>s7140</td>\n",
       "      <td>Movie</td>\n",
       "      <td>Clip: 1</td>\n",
       "      <td>1</td>\n",
       "      <td>1</td>\n",
       "      <td>NaN</td>\n",
       "      <td>NaT</td>\n",
       "      <td>2021</td>\n",
       "      <td>18+</td>\n",
       "      <td>3 min</td>\n",
       "      <td>Action</td>\n",
       "      <td>clip1</td>\n",
       "      <td>NaN</td>\n",
       "      <td>NaN</td>\n",
       "      <td>Amazon_Prime</td>\n",
       "    </tr>\n",
       "    <tr>\n",
       "      <th>15737</th>\n",
       "      <td>s6931</td>\n",
       "      <td>Movie</td>\n",
       "      <td>Title Post onboarding 8</td>\n",
       "      <td>1</td>\n",
       "      <td>1</td>\n",
       "      <td>NaN</td>\n",
       "      <td>NaT</td>\n",
       "      <td>2021</td>\n",
       "      <td>18+</td>\n",
       "      <td>61 min</td>\n",
       "      <td>Action</td>\n",
       "      <td>Title Post onboarding 8</td>\n",
       "      <td>NaN</td>\n",
       "      <td>NaN</td>\n",
       "      <td>Amazon_Prime</td>\n",
       "    </tr>\n",
       "    <tr>\n",
       "      <th>16065</th>\n",
       "      <td>s7259</td>\n",
       "      <td>Movie</td>\n",
       "      <td>Clip: ACT 4 - Title after removing 1C - 4</td>\n",
       "      <td>1</td>\n",
       "      <td>1</td>\n",
       "      <td>NaN</td>\n",
       "      <td>NaT</td>\n",
       "      <td>2021</td>\n",
       "      <td>7+</td>\n",
       "      <td>61 min</td>\n",
       "      <td>Comedy</td>\n",
       "      <td>ACT 4 - Title after removing 1C - 44</td>\n",
       "      <td>NaN</td>\n",
       "      <td>NaN</td>\n",
       "      <td>Amazon_Prime</td>\n",
       "    </tr>\n",
       "    <tr>\n",
       "      <th>15934</th>\n",
       "      <td>s7128</td>\n",
       "      <td>Movie</td>\n",
       "      <td>Act 4 - Title before 1C onboarding 2</td>\n",
       "      <td>1</td>\n",
       "      <td>1</td>\n",
       "      <td>NaN</td>\n",
       "      <td>NaT</td>\n",
       "      <td>2021</td>\n",
       "      <td>ALL</td>\n",
       "      <td>61 min</td>\n",
       "      <td>Action</td>\n",
       "      <td>1</td>\n",
       "      <td>NaN</td>\n",
       "      <td>NaN</td>\n",
       "      <td>Amazon_Prime</td>\n",
       "    </tr>\n",
       "    <tr>\n",
       "      <th>15935</th>\n",
       "      <td>s7129</td>\n",
       "      <td>Movie</td>\n",
       "      <td>Act 4 - Title before 1C onboarding 1</td>\n",
       "      <td>1</td>\n",
       "      <td>1</td>\n",
       "      <td>NaN</td>\n",
       "      <td>NaT</td>\n",
       "      <td>2021</td>\n",
       "      <td>ALL</td>\n",
       "      <td>61 min</td>\n",
       "      <td>Action</td>\n",
       "      <td>1</td>\n",
       "      <td>NaN</td>\n",
       "      <td>NaN</td>\n",
       "      <td>Amazon_Prime</td>\n",
       "    </tr>\n",
       "  </tbody>\n",
       "</table>\n",
       "</div>"
      ],
      "text/plain": [
       "      show_id   type                                      title director cast  \\\n",
       "15946   s7140  Movie                                    Clip: 1        1    1   \n",
       "15737   s6931  Movie                    Title Post onboarding 8        1    1   \n",
       "16065   s7259  Movie  Clip: ACT 4 - Title after removing 1C - 4        1    1   \n",
       "15934   s7128  Movie       Act 4 - Title before 1C onboarding 2        1    1   \n",
       "15935   s7129  Movie       Act 4 - Title before 1C onboarding 1        1    1   \n",
       "\n",
       "      country date_added  release_year rating duration listed_in  \\\n",
       "15946     NaN        NaT          2021    18+    3 min    Action   \n",
       "15737     NaN        NaT          2021    18+   61 min    Action   \n",
       "16065     NaN        NaT          2021     7+   61 min    Comedy   \n",
       "15934     NaN        NaT          2021    ALL   61 min    Action   \n",
       "15935     NaN        NaT          2021    ALL   61 min    Action   \n",
       "\n",
       "                                description month_added  year_added  \\\n",
       "15946                                 clip1         NaN         NaN   \n",
       "15737               Title Post onboarding 8         NaN         NaN   \n",
       "16065  ACT 4 - Title after removing 1C - 44         NaN         NaN   \n",
       "15934                                     1         NaN         NaN   \n",
       "15935                                     1         NaN         NaN   \n",
       "\n",
       "          plataform  \n",
       "15946  Amazon_Prime  \n",
       "15737  Amazon_Prime  \n",
       "16065  Amazon_Prime  \n",
       "15934  Amazon_Prime  \n",
       "15935  Amazon_Prime  "
      ]
     },
     "execution_count": 31,
     "metadata": {},
     "output_type": "execute_result"
    }
   ],
   "source": [
    "df_final.head()"
   ]
  },
  {
   "cell_type": "code",
   "execution_count": 32,
   "id": "f53b3004",
   "metadata": {
    "ExecuteTime": {
     "end_time": "2023-03-24T03:34:12.594718Z",
     "start_time": "2023-03-24T03:34:12.553721Z"
    }
   },
   "outputs": [
    {
     "data": {
      "text/html": [
       "<div>\n",
       "<style scoped>\n",
       "    .dataframe tbody tr th:only-of-type {\n",
       "        vertical-align: middle;\n",
       "    }\n",
       "\n",
       "    .dataframe tbody tr th {\n",
       "        vertical-align: top;\n",
       "    }\n",
       "\n",
       "    .dataframe thead th {\n",
       "        text-align: right;\n",
       "    }\n",
       "</style>\n",
       "<table border=\"1\" class=\"dataframe\">\n",
       "  <thead>\n",
       "    <tr style=\"text-align: right;\">\n",
       "      <th></th>\n",
       "      <th>show_id</th>\n",
       "      <th>type</th>\n",
       "      <th>title</th>\n",
       "      <th>director</th>\n",
       "      <th>cast</th>\n",
       "      <th>country</th>\n",
       "      <th>date_added</th>\n",
       "      <th>release_year</th>\n",
       "      <th>rating</th>\n",
       "      <th>duration</th>\n",
       "      <th>listed_in</th>\n",
       "      <th>description</th>\n",
       "      <th>month_added</th>\n",
       "      <th>year_added</th>\n",
       "      <th>plataform</th>\n",
       "    </tr>\n",
       "  </thead>\n",
       "  <tbody>\n",
       "    <tr>\n",
       "      <th>3084</th>\n",
       "      <td>s3085</td>\n",
       "      <td>TV Show</td>\n",
       "      <td>Rainbow Ruby</td>\n",
       "      <td>NaN</td>\n",
       "      <td>Alyssya Swales, Shannon Chan-Kent, Brian Drumm...</td>\n",
       "      <td>South Korea, Canada, United States, China</td>\n",
       "      <td>2019-12-31</td>\n",
       "      <td>2016</td>\n",
       "      <td>TV-Y</td>\n",
       "      <td>1 Season</td>\n",
       "      <td>Kids' TV</td>\n",
       "      <td>Ruby makes magical journeys with her teddy bea...</td>\n",
       "      <td>DEZ</td>\n",
       "      <td>2019.0</td>\n",
       "      <td>Netflix</td>\n",
       "    </tr>\n",
       "  </tbody>\n",
       "</table>\n",
       "</div>"
      ],
      "text/plain": [
       "     show_id     type         title director  \\\n",
       "3084   s3085  TV Show  Rainbow Ruby      NaN   \n",
       "\n",
       "                                                   cast  \\\n",
       "3084  Alyssya Swales, Shannon Chan-Kent, Brian Drumm...   \n",
       "\n",
       "                                        country date_added  release_year  \\\n",
       "3084  South Korea, Canada, United States, China 2019-12-31          2016   \n",
       "\n",
       "     rating  duration listed_in  \\\n",
       "3084   TV-Y  1 Season  Kids' TV   \n",
       "\n",
       "                                            description month_added  \\\n",
       "3084  Ruby makes magical journeys with her teddy bea...         DEZ   \n",
       "\n",
       "      year_added plataform  \n",
       "3084      2019.0   Netflix  "
      ]
     },
     "execution_count": 32,
     "metadata": {},
     "output_type": "execute_result"
    }
   ],
   "source": [
    "df_final.query('title == \"Rainbow Ruby\"')"
   ]
  },
  {
   "cell_type": "code",
   "execution_count": 33,
   "id": "01103798",
   "metadata": {
    "ExecuteTime": {
     "end_time": "2023-03-24T03:34:13.417384Z",
     "start_time": "2023-03-24T03:34:13.406388Z"
    }
   },
   "outputs": [
    {
     "data": {
      "text/plain": [
       "array([nan,\n",
       "       'Ama Qamata, Khosi Ngema, Gail Mabalane, Thabang Molaba, Dillon Windvogel, Natasha Thahane, Arno Greeff, Xolile Tshabalala, Getmore Sithole, Cindy Mahlangu, Ryle De Morny, Greteli Fincham, Sello Maake Ka-Ncube, Odwa Gwanya, Mekaila Mathys, Sandi Schultz, Duane Williams, Shamilla Miller, Patrick Mofokeng',\n",
       "       'Sami Bouajila, Tracy Gotoas, Samuel Jouy, Nabiha Akkari, Sofia Lesaffre, Salim Kechiouche, Noureddine Farihi, Geert Van Rampelberg, Bakary Diombera',\n",
       "       ...,\n",
       "       'Jesse Eisenberg, Woody Harrelson, Emma Stone, Abigail Breslin, Amber Heard, Bill Murray, Derek Graf',\n",
       "       'Tim Allen, Courteney Cox, Chevy Chase, Kate Mara, Ryan Newman, Michael Cassidy, Spencer Breslin, Rip Torn, Kevin Zegers',\n",
       "       'Vicky Kaushal, Sarah-Jane Dias, Raaghav Chanana, Manish Chaudhary, Meghna Malik, Malkeet Rauni, Anita Shabdish, Chittaranjan Tripathy'],\n",
       "      dtype=object)"
      ]
     },
     "execution_count": 33,
     "metadata": {},
     "output_type": "execute_result"
    }
   ],
   "source": [
    "df_netflix.cast.values"
   ]
  },
  {
   "cell_type": "code",
   "execution_count": 34,
   "id": "cb175f02",
   "metadata": {
    "ExecuteTime": {
     "end_time": "2023-03-24T03:34:14.245751Z",
     "start_time": "2023-03-24T03:34:14.233048Z"
    }
   },
   "outputs": [],
   "source": [
    "df_final_aux = df_final.copy()"
   ]
  },
  {
   "cell_type": "code",
   "execution_count": 35,
   "id": "a74de5d6",
   "metadata": {
    "ExecuteTime": {
     "end_time": "2023-03-24T03:34:15.055680Z",
     "start_time": "2023-03-24T03:34:15.043002Z"
    }
   },
   "outputs": [],
   "source": [
    "df_final_aux['cast'] = df_final_aux['cast'].astype(str)"
   ]
  },
  {
   "cell_type": "code",
   "execution_count": null,
   "id": "a6a9bb59",
   "metadata": {},
   "outputs": [],
   "source": []
  },
  {
   "cell_type": "code",
   "execution_count": 36,
   "id": "4ee4e958",
   "metadata": {
    "ExecuteTime": {
     "end_time": "2023-03-24T03:34:16.181087Z",
     "start_time": "2023-03-24T03:34:15.966779Z"
    }
   },
   "outputs": [
    {
     "data": {
      "text/html": [
       "<div>\n",
       "<style scoped>\n",
       "    .dataframe tbody tr th:only-of-type {\n",
       "        vertical-align: middle;\n",
       "    }\n",
       "\n",
       "    .dataframe tbody tr th {\n",
       "        vertical-align: top;\n",
       "    }\n",
       "\n",
       "    .dataframe thead th {\n",
       "        text-align: right;\n",
       "    }\n",
       "</style>\n",
       "<table border=\"1\" class=\"dataframe\">\n",
       "  <thead>\n",
       "    <tr style=\"text-align: right;\">\n",
       "      <th></th>\n",
       "      <th>nome</th>\n",
       "      <th>frequencia</th>\n",
       "    </tr>\n",
       "  </thead>\n",
       "  <tbody>\n",
       "    <tr>\n",
       "      <th>55255</th>\n",
       "      <td>Maggie Binkley</td>\n",
       "      <td>56</td>\n",
       "    </tr>\n",
       "    <tr>\n",
       "      <th>530</th>\n",
       "      <td>Anupam Kher</td>\n",
       "      <td>56</td>\n",
       "    </tr>\n",
       "    <tr>\n",
       "      <th>3159</th>\n",
       "      <td>Amitabh Bachchan</td>\n",
       "      <td>44</td>\n",
       "    </tr>\n",
       "    <tr>\n",
       "      <th>117</th>\n",
       "      <td>Nassar</td>\n",
       "      <td>43</td>\n",
       "    </tr>\n",
       "    <tr>\n",
       "      <th>1049</th>\n",
       "      <td>Shah Rukh Khan</td>\n",
       "      <td>40</td>\n",
       "    </tr>\n",
       "    <tr>\n",
       "      <th>394</th>\n",
       "      <td>Akshay Kumar</td>\n",
       "      <td>39</td>\n",
       "    </tr>\n",
       "    <tr>\n",
       "      <th>397</th>\n",
       "      <td>Paresh Rawal</td>\n",
       "      <td>39</td>\n",
       "    </tr>\n",
       "    <tr>\n",
       "      <th>572</th>\n",
       "      <td>Naseeruddin Shah</td>\n",
       "      <td>38</td>\n",
       "    </tr>\n",
       "    <tr>\n",
       "      <th>2504</th>\n",
       "      <td>Danny Trejo</td>\n",
       "      <td>37</td>\n",
       "    </tr>\n",
       "    <tr>\n",
       "      <th>3306</th>\n",
       "      <td>Om Puri</td>\n",
       "      <td>34</td>\n",
       "    </tr>\n",
       "  </tbody>\n",
       "</table>\n",
       "</div>"
      ],
      "text/plain": [
       "                   nome  frequencia\n",
       "55255    Maggie Binkley          56\n",
       "530         Anupam Kher          56\n",
       "3159   Amitabh Bachchan          44\n",
       "117              Nassar          43\n",
       "1049     Shah Rukh Khan          40\n",
       "394        Akshay Kumar          39\n",
       "397        Paresh Rawal          39\n",
       "572    Naseeruddin Shah          38\n",
       "2504        Danny Trejo          37\n",
       "3306            Om Puri          34"
      ]
     },
     "execution_count": 36,
     "metadata": {},
     "output_type": "execute_result"
    }
   ],
   "source": [
    "nomes = df_final_aux['cast'].str.split(', ')\n",
    "\n",
    "# criar um dicionário para contar a frequência de cada nome\n",
    "freq = {}\n",
    "for lista in nomes:\n",
    "    for nome in lista:\n",
    "        if nome in freq:\n",
    "            freq[nome] += 1\n",
    "        else:\n",
    "            freq[nome] = 1\n",
    "\n",
    "# criar um dataframe com a contagem de cada nome\n",
    "df_freq = pd.DataFrame({'nome': list(freq.keys()), 'frequencia': list(freq.values())})\n",
    "\n",
    "# ordenar o dataframe pela frequência em ordem decrescente\n",
    "df_freq = df_freq.sort_values('frequencia', ascending=False)\n",
    "\n",
    "remover_nomes = ['nan', '1']\n",
    "\n",
    "df_freq = df_freq[~df_freq.nome.isin(remover_nomes)]\n",
    "\n",
    "df_freq.head(10)"
   ]
  },
  {
   "cell_type": "code",
   "execution_count": 37,
   "id": "32fd2cba",
   "metadata": {
    "ExecuteTime": {
     "end_time": "2023-03-24T03:34:17.236538Z",
     "start_time": "2023-03-24T03:34:17.208537Z"
    }
   },
   "outputs": [
    {
     "data": {
      "text/html": [
       "<div>\n",
       "<style scoped>\n",
       "    .dataframe tbody tr th:only-of-type {\n",
       "        vertical-align: middle;\n",
       "    }\n",
       "\n",
       "    .dataframe tbody tr th {\n",
       "        vertical-align: top;\n",
       "    }\n",
       "\n",
       "    .dataframe thead th {\n",
       "        text-align: right;\n",
       "    }\n",
       "</style>\n",
       "<table border=\"1\" class=\"dataframe\">\n",
       "  <thead>\n",
       "    <tr style=\"text-align: right;\">\n",
       "      <th></th>\n",
       "      <th>nome</th>\n",
       "      <th>frequencia</th>\n",
       "    </tr>\n",
       "  </thead>\n",
       "  <tbody>\n",
       "    <tr>\n",
       "      <th>55255</th>\n",
       "      <td>Maggie Binkley</td>\n",
       "      <td>56</td>\n",
       "    </tr>\n",
       "    <tr>\n",
       "      <th>530</th>\n",
       "      <td>Anupam Kher</td>\n",
       "      <td>56</td>\n",
       "    </tr>\n",
       "    <tr>\n",
       "      <th>3159</th>\n",
       "      <td>Amitabh Bachchan</td>\n",
       "      <td>44</td>\n",
       "    </tr>\n",
       "    <tr>\n",
       "      <th>117</th>\n",
       "      <td>Nassar</td>\n",
       "      <td>43</td>\n",
       "    </tr>\n",
       "    <tr>\n",
       "      <th>1049</th>\n",
       "      <td>Shah Rukh Khan</td>\n",
       "      <td>40</td>\n",
       "    </tr>\n",
       "    <tr>\n",
       "      <th>394</th>\n",
       "      <td>Akshay Kumar</td>\n",
       "      <td>39</td>\n",
       "    </tr>\n",
       "    <tr>\n",
       "      <th>397</th>\n",
       "      <td>Paresh Rawal</td>\n",
       "      <td>39</td>\n",
       "    </tr>\n",
       "    <tr>\n",
       "      <th>572</th>\n",
       "      <td>Naseeruddin Shah</td>\n",
       "      <td>38</td>\n",
       "    </tr>\n",
       "    <tr>\n",
       "      <th>2504</th>\n",
       "      <td>Danny Trejo</td>\n",
       "      <td>37</td>\n",
       "    </tr>\n",
       "    <tr>\n",
       "      <th>3306</th>\n",
       "      <td>Om Puri</td>\n",
       "      <td>34</td>\n",
       "    </tr>\n",
       "    <tr>\n",
       "      <th>4399</th>\n",
       "      <td>Prakash Raj</td>\n",
       "      <td>34</td>\n",
       "    </tr>\n",
       "    <tr>\n",
       "      <th>4449</th>\n",
       "      <td>Julie Tejwani</td>\n",
       "      <td>33</td>\n",
       "    </tr>\n",
       "    <tr>\n",
       "      <th>820</th>\n",
       "      <td>Samuel L. Jackson</td>\n",
       "      <td>32</td>\n",
       "    </tr>\n",
       "    <tr>\n",
       "      <th>17109</th>\n",
       "      <td>Gene Autry</td>\n",
       "      <td>32</td>\n",
       "    </tr>\n",
       "    <tr>\n",
       "      <th>1675</th>\n",
       "      <td>Takahiro Sakurai</td>\n",
       "      <td>32</td>\n",
       "    </tr>\n",
       "    <tr>\n",
       "      <th>4448</th>\n",
       "      <td>Rupa Bhimani</td>\n",
       "      <td>31</td>\n",
       "    </tr>\n",
       "    <tr>\n",
       "      <th>359</th>\n",
       "      <td>Michael Madsen</td>\n",
       "      <td>30</td>\n",
       "    </tr>\n",
       "    <tr>\n",
       "      <th>399</th>\n",
       "      <td>Anil Kapoor</td>\n",
       "      <td>30</td>\n",
       "    </tr>\n",
       "    <tr>\n",
       "      <th>1669</th>\n",
       "      <td>Yuki Kaji</td>\n",
       "      <td>29</td>\n",
       "    </tr>\n",
       "    <tr>\n",
       "      <th>3763</th>\n",
       "      <td>Tara Strong</td>\n",
       "      <td>29</td>\n",
       "    </tr>\n",
       "  </tbody>\n",
       "</table>\n",
       "</div>"
      ],
      "text/plain": [
       "                    nome  frequencia\n",
       "55255     Maggie Binkley          56\n",
       "530          Anupam Kher          56\n",
       "3159    Amitabh Bachchan          44\n",
       "117               Nassar          43\n",
       "1049      Shah Rukh Khan          40\n",
       "394         Akshay Kumar          39\n",
       "397         Paresh Rawal          39\n",
       "572     Naseeruddin Shah          38\n",
       "2504         Danny Trejo          37\n",
       "3306             Om Puri          34\n",
       "4399         Prakash Raj          34\n",
       "4449       Julie Tejwani          33\n",
       "820    Samuel L. Jackson          32\n",
       "17109         Gene Autry          32\n",
       "1675    Takahiro Sakurai          32\n",
       "4448        Rupa Bhimani          31\n",
       "359       Michael Madsen          30\n",
       "399          Anil Kapoor          30\n",
       "1669           Yuki Kaji          29\n",
       "3763         Tara Strong          29"
      ]
     },
     "execution_count": 37,
     "metadata": {},
     "output_type": "execute_result"
    }
   ],
   "source": [
    "df_freq.head(20)"
   ]
  },
  {
   "cell_type": "code",
   "execution_count": 38,
   "id": "18ec4cf7",
   "metadata": {
    "ExecuteTime": {
     "end_time": "2023-03-24T03:34:18.902012Z",
     "start_time": "2023-03-24T03:34:18.350822Z"
    }
   },
   "outputs": [
    {
     "data": {
      "image/png": "[encoded data removed]",
      "text/plain": [
       "<Figure size 864x432 with 1 Axes>"
      ]
     },
     "metadata": {},
     "output_type": "display_data"
    }
   ],
   "source": [
    "plt.figure(figsize=(12,6))\n",
    "\n",
    "\n",
    "g = sns.barplot(x='frequencia', y='nome', data=df_freq.iloc[0:10,], palette='Reds_r')\n",
    "plt.title('Top 10 Atores/Atrizes', fontsize=20)\n",
    "plt.ylabel('', fontsize=15)\n",
    "plt.xlabel('Contagem', fontsize=15)\n",
    "plt.yticks(fontsize=13)\n",
    "plt.xticks(fontsize=13)\n",
    "show_values(g,'h')\n"
   ]
  },
  {
   "cell_type": "markdown",
   "id": "54a8fe63",
   "metadata": {},
   "source": [
    "## Top 5 países produtores de conteúdos considerando"
   ]
  },
  {
   "cell_type": "markdown",
   "id": "deb0000e",
   "metadata": {},
   "source": [
    "### Geral"
   ]
  },
  {
   "cell_type": "code",
   "execution_count": 39,
   "id": "c3f09e4a",
   "metadata": {
    "ExecuteTime": {
     "end_time": "2023-03-24T03:34:20.018161Z",
     "start_time": "2023-03-24T03:34:19.989218Z"
    }
   },
   "outputs": [
    {
     "data": {
      "text/html": [
       "<div>\n",
       "<style scoped>\n",
       "    .dataframe tbody tr th:only-of-type {\n",
       "        vertical-align: middle;\n",
       "    }\n",
       "\n",
       "    .dataframe tbody tr th {\n",
       "        vertical-align: top;\n",
       "    }\n",
       "\n",
       "    .dataframe thead th {\n",
       "        text-align: right;\n",
       "    }\n",
       "</style>\n",
       "<table border=\"1\" class=\"dataframe\">\n",
       "  <thead>\n",
       "    <tr style=\"text-align: right;\">\n",
       "      <th></th>\n",
       "      <th>show_id</th>\n",
       "      <th>type</th>\n",
       "      <th>title</th>\n",
       "      <th>director</th>\n",
       "      <th>cast</th>\n",
       "      <th>country</th>\n",
       "      <th>date_added</th>\n",
       "      <th>release_year</th>\n",
       "      <th>rating</th>\n",
       "      <th>duration</th>\n",
       "      <th>listed_in</th>\n",
       "      <th>description</th>\n",
       "      <th>month_added</th>\n",
       "      <th>year_added</th>\n",
       "      <th>plataform</th>\n",
       "    </tr>\n",
       "  </thead>\n",
       "  <tbody>\n",
       "    <tr>\n",
       "      <th>12352</th>\n",
       "      <td>s3546</td>\n",
       "      <td>Movie</td>\n",
       "      <td>15-Minute Cardio Flow 7.0 Workout (with weights)</td>\n",
       "      <td>NaN</td>\n",
       "      <td>Maggie Binkley</td>\n",
       "      <td>NaN</td>\n",
       "      <td>NaT</td>\n",
       "      <td>2019</td>\n",
       "      <td>ALL</td>\n",
       "      <td>19 min</td>\n",
       "      <td>Fitness</td>\n",
       "      <td>Just what you need after a week of hard work- ...</td>\n",
       "      <td>NaN</td>\n",
       "      <td>NaN</td>\n",
       "      <td>Amazon_Prime</td>\n",
       "    </tr>\n",
       "    <tr>\n",
       "      <th>17073</th>\n",
       "      <td>s8267</td>\n",
       "      <td>Movie</td>\n",
       "      <td>She's Out of My League</td>\n",
       "      <td>Jim Field Smith</td>\n",
       "      <td>Jay Baruchel, Alice Eve, T.J. Miller, Mike Vog...</td>\n",
       "      <td>United States</td>\n",
       "      <td>NaT</td>\n",
       "      <td>2010</td>\n",
       "      <td>R</td>\n",
       "      <td>105 min</td>\n",
       "      <td>Comedy, Romance</td>\n",
       "      <td>In this outrageous comedy, Kirk (Jay Baruchel,...</td>\n",
       "      <td>NaN</td>\n",
       "      <td>NaN</td>\n",
       "      <td>Amazon_Prime</td>\n",
       "    </tr>\n",
       "    <tr>\n",
       "      <th>15500</th>\n",
       "      <td>s6694</td>\n",
       "      <td>Movie</td>\n",
       "      <td>Burning Plain</td>\n",
       "      <td>Guillermo Arriaga</td>\n",
       "      <td>Charlize Theron, Kim Basinger, Jennifer Lawren...</td>\n",
       "      <td>NaN</td>\n",
       "      <td>NaT</td>\n",
       "      <td>2009</td>\n",
       "      <td>R</td>\n",
       "      <td>107 min</td>\n",
       "      <td>Arthouse, Drama, Suspense</td>\n",
       "      <td>From writer/director Guillermo Arriaga comes T...</td>\n",
       "      <td>NaN</td>\n",
       "      <td>NaN</td>\n",
       "      <td>Amazon_Prime</td>\n",
       "    </tr>\n",
       "    <tr>\n",
       "      <th>10763</th>\n",
       "      <td>s1957</td>\n",
       "      <td>Movie</td>\n",
       "      <td>Kentucky Fried Movie</td>\n",
       "      <td>John Landis</td>\n",
       "      <td>Marilyn Joi, Saul Kahan, David Zucker, Marcy G...</td>\n",
       "      <td>NaN</td>\n",
       "      <td>NaT</td>\n",
       "      <td>1977</td>\n",
       "      <td>18+</td>\n",
       "      <td>83 min</td>\n",
       "      <td>Comedy</td>\n",
       "      <td>Directed by the legendary John Landis (Animal ...</td>\n",
       "      <td>NaN</td>\n",
       "      <td>NaN</td>\n",
       "      <td>Amazon_Prime</td>\n",
       "    </tr>\n",
       "    <tr>\n",
       "      <th>14231</th>\n",
       "      <td>s5425</td>\n",
       "      <td>Movie</td>\n",
       "      <td>For My Daughter's Honor</td>\n",
       "      <td>Alan Metzger</td>\n",
       "      <td>Gary Cole, Nicholle Tom, Mac Davis, Mary Kay P...</td>\n",
       "      <td>NaN</td>\n",
       "      <td>NaT</td>\n",
       "      <td>1996</td>\n",
       "      <td>13+</td>\n",
       "      <td>88 min</td>\n",
       "      <td>Drama</td>\n",
       "      <td>Amy Dustin, a fourteen-year-old high school st...</td>\n",
       "      <td>NaN</td>\n",
       "      <td>NaN</td>\n",
       "      <td>Amazon_Prime</td>\n",
       "    </tr>\n",
       "  </tbody>\n",
       "</table>\n",
       "</div>"
      ],
      "text/plain": [
       "      show_id   type                                             title  \\\n",
       "12352   s3546  Movie  15-Minute Cardio Flow 7.0 Workout (with weights)   \n",
       "17073   s8267  Movie                            She's Out of My League   \n",
       "15500   s6694  Movie                                     Burning Plain   \n",
       "10763   s1957  Movie                              Kentucky Fried Movie   \n",
       "14231   s5425  Movie                           For My Daughter's Honor   \n",
       "\n",
       "                director                                               cast  \\\n",
       "12352                NaN                                     Maggie Binkley   \n",
       "17073    Jim Field Smith  Jay Baruchel, Alice Eve, T.J. Miller, Mike Vog...   \n",
       "15500  Guillermo Arriaga  Charlize Theron, Kim Basinger, Jennifer Lawren...   \n",
       "10763        John Landis  Marilyn Joi, Saul Kahan, David Zucker, Marcy G...   \n",
       "14231       Alan Metzger  Gary Cole, Nicholle Tom, Mac Davis, Mary Kay P...   \n",
       "\n",
       "             country date_added  release_year rating duration  \\\n",
       "12352            NaN        NaT          2019    ALL   19 min   \n",
       "17073  United States        NaT          2010      R  105 min   \n",
       "15500            NaN        NaT          2009      R  107 min   \n",
       "10763            NaN        NaT          1977    18+   83 min   \n",
       "14231            NaN        NaT          1996    13+   88 min   \n",
       "\n",
       "                       listed_in  \\\n",
       "12352                    Fitness   \n",
       "17073            Comedy, Romance   \n",
       "15500  Arthouse, Drama, Suspense   \n",
       "10763                     Comedy   \n",
       "14231                      Drama   \n",
       "\n",
       "                                             description month_added  \\\n",
       "12352  Just what you need after a week of hard work- ...         NaN   \n",
       "17073  In this outrageous comedy, Kirk (Jay Baruchel,...         NaN   \n",
       "15500  From writer/director Guillermo Arriaga comes T...         NaN   \n",
       "10763  Directed by the legendary John Landis (Animal ...         NaN   \n",
       "14231  Amy Dustin, a fourteen-year-old high school st...         NaN   \n",
       "\n",
       "       year_added     plataform  \n",
       "12352         NaN  Amazon_Prime  \n",
       "17073         NaN  Amazon_Prime  \n",
       "15500         NaN  Amazon_Prime  \n",
       "10763         NaN  Amazon_Prime  \n",
       "14231         NaN  Amazon_Prime  "
      ]
     },
     "execution_count": 39,
     "metadata": {},
     "output_type": "execute_result"
    }
   ],
   "source": [
    "df_final.sample(5)"
   ]
  },
  {
   "cell_type": "code",
   "execution_count": 40,
   "id": "35fb297b",
   "metadata": {
    "ExecuteTime": {
     "end_time": "2023-03-24T03:34:21.323763Z",
     "start_time": "2023-03-24T03:34:21.287080Z"
    }
   },
   "outputs": [
    {
     "data": {
      "text/plain": [
       "United States                                   2990\n",
       "India                                           1176\n",
       "United Kingdom                                   427\n",
       "Japan                                            245\n",
       "South Korea                                      194\n",
       "                                                ... \n",
       "Singapore, France                                  1\n",
       "Luxembourg                                         1\n",
       "Japan, Canada                                      1\n",
       "United States, United Kingdom, Canada, China       1\n",
       "Philippines, Qatar                                 1\n",
       "Name: country, Length: 770, dtype: int64"
      ]
     },
     "execution_count": 40,
     "metadata": {},
     "output_type": "execute_result"
    }
   ],
   "source": [
    "df_final.country.value_counts()"
   ]
  },
  {
   "cell_type": "code",
   "execution_count": 41,
   "id": "09d69b2a",
   "metadata": {
    "ExecuteTime": {
     "end_time": "2023-03-24T03:34:22.640174Z",
     "start_time": "2023-03-24T03:34:22.580874Z"
    }
   },
   "outputs": [
    {
     "data": {
      "text/html": [
       "<div>\n",
       "<style scoped>\n",
       "    .dataframe tbody tr th:only-of-type {\n",
       "        vertical-align: middle;\n",
       "    }\n",
       "\n",
       "    .dataframe tbody tr th {\n",
       "        vertical-align: top;\n",
       "    }\n",
       "\n",
       "    .dataframe thead th {\n",
       "        text-align: right;\n",
       "    }\n",
       "</style>\n",
       "<table border=\"1\" class=\"dataframe\">\n",
       "  <thead>\n",
       "    <tr style=\"text-align: right;\">\n",
       "      <th></th>\n",
       "      <th>pais</th>\n",
       "      <th>frequencia</th>\n",
       "    </tr>\n",
       "  </thead>\n",
       "  <tbody>\n",
       "    <tr>\n",
       "      <th>2</th>\n",
       "      <td>United States</td>\n",
       "      <td>3906</td>\n",
       "    </tr>\n",
       "    <tr>\n",
       "      <th>0</th>\n",
       "      <td>India</td>\n",
       "      <td>1264</td>\n",
       "    </tr>\n",
       "    <tr>\n",
       "      <th>5</th>\n",
       "      <td>United Kingdom</td>\n",
       "      <td>837</td>\n",
       "    </tr>\n",
       "    <tr>\n",
       "      <th>3</th>\n",
       "      <td>Canada</td>\n",
       "      <td>460</td>\n",
       "    </tr>\n",
       "    <tr>\n",
       "      <th>9</th>\n",
       "      <td>France</td>\n",
       "      <td>401</td>\n",
       "    </tr>\n",
       "    <tr>\n",
       "      <th>6</th>\n",
       "      <td>Japan</td>\n",
       "      <td>321</td>\n",
       "    </tr>\n",
       "    <tr>\n",
       "      <th>11</th>\n",
       "      <td>Spain</td>\n",
       "      <td>240</td>\n",
       "    </tr>\n",
       "    <tr>\n",
       "      <th>29</th>\n",
       "      <td>Germany</td>\n",
       "      <td>239</td>\n",
       "    </tr>\n",
       "    <tr>\n",
       "      <th>7</th>\n",
       "      <td>South Korea</td>\n",
       "      <td>224</td>\n",
       "    </tr>\n",
       "    <tr>\n",
       "      <th>18</th>\n",
       "      <td>Mexico</td>\n",
       "      <td>170</td>\n",
       "    </tr>\n",
       "  </tbody>\n",
       "</table>\n",
       "</div>"
      ],
      "text/plain": [
       "              pais  frequencia\n",
       "2    United States        3906\n",
       "0            India        1264\n",
       "5   United Kingdom         837\n",
       "3           Canada         460\n",
       "9           France         401\n",
       "6            Japan         321\n",
       "11           Spain         240\n",
       "29         Germany         239\n",
       "7      South Korea         224\n",
       "18          Mexico         170"
      ]
     },
     "execution_count": 41,
     "metadata": {},
     "output_type": "execute_result"
    }
   ],
   "source": [
    "paises = df_final_aux['country'].str.split(', ').dropna()\n",
    "\n",
    "# criar um dicionário para contar a frequência de cada nome\n",
    "freq = {}\n",
    "for lista in paises:\n",
    "    for nome in lista:\n",
    "        if nome in freq:\n",
    "            freq[nome] += 1\n",
    "        else:\n",
    "            freq[nome] = 1\n",
    "\n",
    "# criar um dataframe com a contagem de cada nome\n",
    "df_freq = pd.DataFrame({'pais': list(freq.keys()), 'frequencia': list(freq.values())})\n",
    "\n",
    "# ordenar o dataframe pela frequência em ordem decrescente\n",
    "df_freq = df_freq.sort_values('frequencia', ascending=False)\n",
    "\n",
    "\n",
    "df_freq.head(10)"
   ]
  },
  {
   "cell_type": "code",
   "execution_count": 42,
   "id": "60d9253a",
   "metadata": {
    "ExecuteTime": {
     "end_time": "2023-03-24T03:34:24.127091Z",
     "start_time": "2023-03-24T03:34:23.624729Z"
    }
   },
   "outputs": [
    {
     "data": {
      "image/png": "[encoded data removed]",
      "text/plain": [
       "<Figure size 864x432 with 1 Axes>"
      ]
     },
     "metadata": {},
     "output_type": "display_data"
    }
   ],
   "source": [
    "plt.figure(figsize=(12,6))\n",
    "\n",
    "\n",
    "g = sns.barplot(x='frequencia', y='pais', data=df_freq.iloc[0:5,], palette='Reds_r')\n",
    "plt.title('Top 5 produtores de conteúdo - Geral', fontsize=20)\n",
    "plt.ylabel('', fontsize=15)\n",
    "plt.xlabel('Contagem', fontsize=15)\n",
    "plt.yticks(fontsize=13)\n",
    "plt.xticks(fontsize=13)\n",
    "show_values(g,'h')\n"
   ]
  },
  {
   "cell_type": "markdown",
   "id": "b0a97ae7",
   "metadata": {},
   "source": [
    "### Netflix"
   ]
  },
  {
   "cell_type": "code",
   "execution_count": 43,
   "id": "a1f8f5f5",
   "metadata": {
    "ExecuteTime": {
     "end_time": "2023-03-24T03:34:25.348845Z",
     "start_time": "2023-03-24T03:34:25.288727Z"
    }
   },
   "outputs": [
    {
     "data": {
      "text/html": [
       "<div>\n",
       "<style scoped>\n",
       "    .dataframe tbody tr th:only-of-type {\n",
       "        vertical-align: middle;\n",
       "    }\n",
       "\n",
       "    .dataframe tbody tr th {\n",
       "        vertical-align: top;\n",
       "    }\n",
       "\n",
       "    .dataframe thead th {\n",
       "        text-align: right;\n",
       "    }\n",
       "</style>\n",
       "<table border=\"1\" class=\"dataframe\">\n",
       "  <thead>\n",
       "    <tr style=\"text-align: right;\">\n",
       "      <th></th>\n",
       "      <th>pais</th>\n",
       "      <th>frequencia</th>\n",
       "    </tr>\n",
       "  </thead>\n",
       "  <tbody>\n",
       "    <tr>\n",
       "      <th>0</th>\n",
       "      <td>United States</td>\n",
       "      <td>3689</td>\n",
       "    </tr>\n",
       "    <tr>\n",
       "      <th>2</th>\n",
       "      <td>India</td>\n",
       "      <td>1046</td>\n",
       "    </tr>\n",
       "    <tr>\n",
       "      <th>5</th>\n",
       "      <td>United Kingdom</td>\n",
       "      <td>804</td>\n",
       "    </tr>\n",
       "    <tr>\n",
       "      <th>15</th>\n",
       "      <td>Canada</td>\n",
       "      <td>445</td>\n",
       "    </tr>\n",
       "    <tr>\n",
       "      <th>12</th>\n",
       "      <td>France</td>\n",
       "      <td>393</td>\n",
       "    </tr>\n",
       "    <tr>\n",
       "      <th>16</th>\n",
       "      <td>Japan</td>\n",
       "      <td>318</td>\n",
       "    </tr>\n",
       "    <tr>\n",
       "      <th>18</th>\n",
       "      <td>Spain</td>\n",
       "      <td>232</td>\n",
       "    </tr>\n",
       "    <tr>\n",
       "      <th>20</th>\n",
       "      <td>South Korea</td>\n",
       "      <td>231</td>\n",
       "    </tr>\n",
       "    <tr>\n",
       "      <th>6</th>\n",
       "      <td>Germany</td>\n",
       "      <td>226</td>\n",
       "    </tr>\n",
       "    <tr>\n",
       "      <th>9</th>\n",
       "      <td>Mexico</td>\n",
       "      <td>169</td>\n",
       "    </tr>\n",
       "  </tbody>\n",
       "</table>\n",
       "</div>"
      ],
      "text/plain": [
       "              pais  frequencia\n",
       "0    United States        3689\n",
       "2            India        1046\n",
       "5   United Kingdom         804\n",
       "15          Canada         445\n",
       "12          France         393\n",
       "16           Japan         318\n",
       "18           Spain         232\n",
       "20     South Korea         231\n",
       "6          Germany         226\n",
       "9           Mexico         169"
      ]
     },
     "execution_count": 43,
     "metadata": {},
     "output_type": "execute_result"
    }
   ],
   "source": [
    "paises = df_netflix['country'].str.split(', ').dropna()\n",
    "\n",
    "# criar um dicionário para contar a frequência de cada nome\n",
    "freq = {}\n",
    "for lista in paises:\n",
    "    for nome in lista:\n",
    "        if nome in freq:\n",
    "            freq[nome] += 1\n",
    "        else:\n",
    "            freq[nome] = 1\n",
    "\n",
    "# criar um dataframe com a contagem de cada nome\n",
    "df_freq = pd.DataFrame({'pais': list(freq.keys()), 'frequencia': list(freq.values())})\n",
    "\n",
    "# ordenar o dataframe pela frequência em ordem decrescente\n",
    "df_freq = df_freq.sort_values('frequencia', ascending=False)\n",
    "\n",
    "\n",
    "df_freq.head(10)"
   ]
  },
  {
   "cell_type": "code",
   "execution_count": 44,
   "id": "9e572484",
   "metadata": {
    "ExecuteTime": {
     "end_time": "2023-03-24T03:34:26.863707Z",
     "start_time": "2023-03-24T03:34:26.442372Z"
    }
   },
   "outputs": [
    {
     "data": {
      "image/png": "[encoded data removed]",
      "text/plain": [
       "<Figure size 864x432 with 1 Axes>"
      ]
     },
     "metadata": {},
     "output_type": "display_data"
    }
   ],
   "source": [
    "plt.figure(figsize=(12,6))\n",
    "\n",
    "\n",
    "g = sns.barplot(x='frequencia', y='pais', data=df_freq.iloc[0:5,], palette='Reds_r')\n",
    "plt.title('Top 5 produtores de conteúdo - Netflix', fontsize=20)\n",
    "plt.ylabel('', fontsize=15)\n",
    "plt.xlabel('Contagem', fontsize=15)\n",
    "plt.yticks(fontsize=13)\n",
    "plt.xticks(fontsize=13)\n",
    "show_values(g,'h')\n"
   ]
  },
  {
   "cell_type": "markdown",
   "id": "641a988a",
   "metadata": {},
   "source": [
    "### Amazon Prime"
   ]
  },
  {
   "cell_type": "code",
   "execution_count": 45,
   "id": "a06286c8",
   "metadata": {
    "ExecuteTime": {
     "end_time": "2023-03-24T03:34:28.174790Z",
     "start_time": "2023-03-24T03:34:28.162678Z"
    }
   },
   "outputs": [
    {
     "data": {
      "text/plain": [
       "United States                                253\n",
       "India                                        229\n",
       "United Kingdom                                28\n",
       "Canada                                        16\n",
       "United Kingdom, United States                 12\n",
       "                                            ... \n",
       "Japan, France                                  1\n",
       "United States, United Kingdom, Kazakhstan      1\n",
       "United States, France, Denmark                 1\n",
       "United States, Japan                           1\n",
       "Iran, France                                   1\n",
       "Name: country, Length: 86, dtype: int64"
      ]
     },
     "execution_count": 45,
     "metadata": {},
     "output_type": "execute_result"
    }
   ],
   "source": [
    "df_amazon.country.value_counts()"
   ]
  },
  {
   "cell_type": "code",
   "execution_count": 46,
   "id": "8fab07dc",
   "metadata": {
    "ExecuteTime": {
     "end_time": "2023-03-24T03:34:29.019584Z",
     "start_time": "2023-03-24T03:34:28.990584Z"
    }
   },
   "outputs": [
    {
     "data": {
      "text/html": [
       "<div>\n",
       "<style scoped>\n",
       "    .dataframe tbody tr th:only-of-type {\n",
       "        vertical-align: middle;\n",
       "    }\n",
       "\n",
       "    .dataframe tbody tr th {\n",
       "        vertical-align: top;\n",
       "    }\n",
       "\n",
       "    .dataframe thead th {\n",
       "        text-align: right;\n",
       "    }\n",
       "</style>\n",
       "<table border=\"1\" class=\"dataframe\">\n",
       "  <thead>\n",
       "    <tr style=\"text-align: right;\">\n",
       "      <th></th>\n",
       "      <th>pais</th>\n",
       "      <th>frequencia</th>\n",
       "    </tr>\n",
       "  </thead>\n",
       "  <tbody>\n",
       "    <tr>\n",
       "      <th>2</th>\n",
       "      <td>United States</td>\n",
       "      <td>334</td>\n",
       "    </tr>\n",
       "    <tr>\n",
       "      <th>1</th>\n",
       "      <td>India</td>\n",
       "      <td>246</td>\n",
       "    </tr>\n",
       "    <tr>\n",
       "      <th>3</th>\n",
       "      <td>United Kingdom</td>\n",
       "      <td>67</td>\n",
       "    </tr>\n",
       "    <tr>\n",
       "      <th>0</th>\n",
       "      <td>Canada</td>\n",
       "      <td>35</td>\n",
       "    </tr>\n",
       "    <tr>\n",
       "      <th>4</th>\n",
       "      <td>France</td>\n",
       "      <td>20</td>\n",
       "    </tr>\n",
       "    <tr>\n",
       "      <th>7</th>\n",
       "      <td>Germany</td>\n",
       "      <td>17</td>\n",
       "    </tr>\n",
       "    <tr>\n",
       "      <th>6</th>\n",
       "      <td>Italy</td>\n",
       "      <td>14</td>\n",
       "    </tr>\n",
       "    <tr>\n",
       "      <th>5</th>\n",
       "      <td>Spain</td>\n",
       "      <td>11</td>\n",
       "    </tr>\n",
       "    <tr>\n",
       "      <th>10</th>\n",
       "      <td>Denmark</td>\n",
       "      <td>6</td>\n",
       "    </tr>\n",
       "    <tr>\n",
       "      <th>8</th>\n",
       "      <td>Japan</td>\n",
       "      <td>6</td>\n",
       "    </tr>\n",
       "  </tbody>\n",
       "</table>\n",
       "</div>"
      ],
      "text/plain": [
       "              pais  frequencia\n",
       "2    United States         334\n",
       "1            India         246\n",
       "3   United Kingdom          67\n",
       "0           Canada          35\n",
       "4           France          20\n",
       "7          Germany          17\n",
       "6            Italy          14\n",
       "5            Spain          11\n",
       "10         Denmark           6\n",
       "8            Japan           6"
      ]
     },
     "execution_count": 46,
     "metadata": {},
     "output_type": "execute_result"
    }
   ],
   "source": [
    "paises = df_amazon['country'].str.split(', ').dropna()\n",
    "\n",
    "# criar um dicionário para contar a frequência de cada nome\n",
    "freq = {}\n",
    "for lista in paises:\n",
    "    for nome in lista:\n",
    "        if nome in freq:\n",
    "            freq[nome] += 1\n",
    "        else:\n",
    "            freq[nome] = 1\n",
    "\n",
    "# criar um dataframe com a contagem de cada nome\n",
    "df_freq = pd.DataFrame({'pais': list(freq.keys()), 'frequencia': list(freq.values())})\n",
    "\n",
    "# ordenar o dataframe pela frequência em ordem decrescente\n",
    "df_freq = df_freq.sort_values('frequencia', ascending=False)\n",
    "\n",
    "\n",
    "df_freq.head(10)"
   ]
  },
  {
   "cell_type": "code",
   "execution_count": 47,
   "id": "d1023f63",
   "metadata": {
    "ExecuteTime": {
     "end_time": "2023-03-24T03:34:29.985673Z",
     "start_time": "2023-03-24T03:34:29.734575Z"
    }
   },
   "outputs": [
    {
     "data": {
      "image/png": "[encoded data removed]",
      "text/plain": [
       "<Figure size 864x432 with 1 Axes>"
      ]
     },
     "metadata": {},
     "output_type": "display_data"
    }
   ],
   "source": [
    "plt.figure(figsize=(12,6))\n",
    "\n",
    "\n",
    "g = sns.barplot(x='frequencia', y='pais', data=df_freq.iloc[0:5,], palette='Reds_r')\n",
    "plt.title('Top 5 produtores de conteúdo - Amazon Prime', fontsize=20)\n",
    "plt.ylabel('', fontsize=15)\n",
    "plt.xlabel('Contagem', fontsize=15)\n",
    "plt.yticks(fontsize=13)\n",
    "plt.xticks(fontsize=13)\n",
    "show_values(g,'h')\n"
   ]
  },
  {
   "cell_type": "markdown",
   "id": "dde3e3f6",
   "metadata": {},
   "source": [
    "- Não houve alteração no Top 5 países produtos de conteúdo nos gráficos Geral, Netflix e Amazon Prime"
   ]
  },
  {
   "cell_type": "markdown",
   "id": "23c82d5f",
   "metadata": {},
   "source": [
    "## Mês no qual há mais adições de filmes na plataforma Netflix"
   ]
  },
  {
   "cell_type": "markdown",
   "id": "4d8d3b41",
   "metadata": {},
   "source": [
    "- Só serão considerados os Filmes (Movies)."
   ]
  },
  {
   "cell_type": "code",
   "execution_count": 48,
   "id": "369829c7",
   "metadata": {
    "ExecuteTime": {
     "end_time": "2023-03-24T03:34:30.889229Z",
     "start_time": "2023-03-24T03:34:30.863238Z"
    }
   },
   "outputs": [],
   "source": [
    "df_netflix_aux = df_netflix[~df_netflix.date_added.isnull()]"
   ]
  },
  {
   "cell_type": "code",
   "execution_count": 49,
   "id": "25462c92",
   "metadata": {
    "ExecuteTime": {
     "end_time": "2023-03-24T03:34:31.776463Z",
     "start_time": "2023-03-24T03:34:31.736311Z"
    }
   },
   "outputs": [
    {
     "data": {
      "text/html": [
       "<div>\n",
       "<style scoped>\n",
       "    .dataframe tbody tr th:only-of-type {\n",
       "        vertical-align: middle;\n",
       "    }\n",
       "\n",
       "    .dataframe tbody tr th {\n",
       "        vertical-align: top;\n",
       "    }\n",
       "\n",
       "    .dataframe thead th {\n",
       "        text-align: right;\n",
       "    }\n",
       "</style>\n",
       "<table border=\"1\" class=\"dataframe\">\n",
       "  <thead>\n",
       "    <tr style=\"text-align: right;\">\n",
       "      <th></th>\n",
       "      <th>show_id</th>\n",
       "      <th>type</th>\n",
       "      <th>title</th>\n",
       "      <th>director</th>\n",
       "      <th>cast</th>\n",
       "      <th>country</th>\n",
       "      <th>date_added</th>\n",
       "      <th>release_year</th>\n",
       "      <th>rating</th>\n",
       "      <th>duration</th>\n",
       "      <th>listed_in</th>\n",
       "      <th>description</th>\n",
       "      <th>month_added</th>\n",
       "      <th>year_added</th>\n",
       "      <th>plataform</th>\n",
       "      <th>constant</th>\n",
       "    </tr>\n",
       "  </thead>\n",
       "  <tbody>\n",
       "    <tr>\n",
       "      <th>0</th>\n",
       "      <td>s1</td>\n",
       "      <td>Movie</td>\n",
       "      <td>Dick Johnson Is Dead</td>\n",
       "      <td>Kirsten Johnson</td>\n",
       "      <td>NaN</td>\n",
       "      <td>United States</td>\n",
       "      <td>2021-09-25</td>\n",
       "      <td>2020</td>\n",
       "      <td>PG-13</td>\n",
       "      <td>90 min</td>\n",
       "      <td>Documentaries</td>\n",
       "      <td>As her father nears the end of his life, filmm...</td>\n",
       "      <td>SET</td>\n",
       "      <td>2021</td>\n",
       "      <td>Netflix</td>\n",
       "      <td>1</td>\n",
       "    </tr>\n",
       "  </tbody>\n",
       "</table>\n",
       "</div>"
      ],
      "text/plain": [
       "  show_id   type                 title         director cast        country  \\\n",
       "0      s1  Movie  Dick Johnson Is Dead  Kirsten Johnson  NaN  United States   \n",
       "\n",
       "  date_added  release_year rating duration      listed_in  \\\n",
       "0 2021-09-25          2020  PG-13   90 min  Documentaries   \n",
       "\n",
       "                                         description month_added  year_added  \\\n",
       "0  As her father nears the end of his life, filmm...         SET        2021   \n",
       "\n",
       "  plataform  constant  \n",
       "0   Netflix         1  "
      ]
     },
     "execution_count": 49,
     "metadata": {},
     "output_type": "execute_result"
    }
   ],
   "source": [
    "df_netflix_aux['year_added'] = df_netflix_aux['year_added'].astype(int)\n",
    "df_netflix_aux['constant'] = 1\n",
    "\n",
    "df_netflix_aux.head(1)"
   ]
  },
  {
   "cell_type": "code",
   "execution_count": 50,
   "id": "e89f1f58",
   "metadata": {
    "ExecuteTime": {
     "end_time": "2023-03-24T03:34:32.883967Z",
     "start_time": "2023-03-24T03:34:32.855807Z"
    }
   },
   "outputs": [],
   "source": [
    "df_netflix_movies = df_netflix_aux.query('type == \"Movie\"')"
   ]
  },
  {
   "cell_type": "code",
   "execution_count": 51,
   "id": "803f16a8",
   "metadata": {
    "ExecuteTime": {
     "end_time": "2023-03-24T03:34:33.934208Z",
     "start_time": "2023-03-24T03:34:33.905410Z"
    }
   },
   "outputs": [
    {
     "data": {
      "text/html": [
       "<div>\n",
       "<style scoped>\n",
       "    .dataframe tbody tr th:only-of-type {\n",
       "        vertical-align: middle;\n",
       "    }\n",
       "\n",
       "    .dataframe tbody tr th {\n",
       "        vertical-align: top;\n",
       "    }\n",
       "\n",
       "    .dataframe thead th {\n",
       "        text-align: right;\n",
       "    }\n",
       "</style>\n",
       "<table border=\"1\" class=\"dataframe\">\n",
       "  <thead>\n",
       "    <tr style=\"text-align: right;\">\n",
       "      <th></th>\n",
       "      <th>month_added</th>\n",
       "      <th>year_added</th>\n",
       "      <th>constant</th>\n",
       "    </tr>\n",
       "  </thead>\n",
       "  <tbody>\n",
       "    <tr>\n",
       "      <th>0</th>\n",
       "      <td>ABR</td>\n",
       "      <td>2014</td>\n",
       "      <td>1</td>\n",
       "    </tr>\n",
       "    <tr>\n",
       "      <th>1</th>\n",
       "      <td>ABR</td>\n",
       "      <td>2015</td>\n",
       "      <td>1</td>\n",
       "    </tr>\n",
       "    <tr>\n",
       "      <th>2</th>\n",
       "      <td>ABR</td>\n",
       "      <td>2016</td>\n",
       "      <td>14</td>\n",
       "    </tr>\n",
       "    <tr>\n",
       "      <th>3</th>\n",
       "      <td>ABR</td>\n",
       "      <td>2017</td>\n",
       "      <td>66</td>\n",
       "    </tr>\n",
       "    <tr>\n",
       "      <th>4</th>\n",
       "      <td>ABR</td>\n",
       "      <td>2018</td>\n",
       "      <td>87</td>\n",
       "    </tr>\n",
       "  </tbody>\n",
       "</table>\n",
       "</div>"
      ],
      "text/plain": [
       "  month_added  year_added  constant\n",
       "0         ABR        2014         1\n",
       "1         ABR        2015         1\n",
       "2         ABR        2016        14\n",
       "3         ABR        2017        66\n",
       "4         ABR        2018        87"
      ]
     },
     "execution_count": 51,
     "metadata": {},
     "output_type": "execute_result"
    }
   ],
   "source": [
    "tb_pivot = df_netflix_movies.groupby(['month_added','year_added'], as_index=False).agg({'constant':'sum'})\n",
    "tb_pivot.head()"
   ]
  },
  {
   "cell_type": "code",
   "execution_count": 52,
   "id": "3606d8d3",
   "metadata": {
    "ExecuteTime": {
     "end_time": "2023-03-24T03:34:35.306019Z",
     "start_time": "2023-03-24T03:34:35.232648Z"
    }
   },
   "outputs": [
    {
     "data": {
      "text/html": [
       "<div>\n",
       "<style scoped>\n",
       "    .dataframe tbody tr th:only-of-type {\n",
       "        vertical-align: middle;\n",
       "    }\n",
       "\n",
       "    .dataframe tbody tr th {\n",
       "        vertical-align: top;\n",
       "    }\n",
       "\n",
       "    .dataframe thead th {\n",
       "        text-align: right;\n",
       "    }\n",
       "</style>\n",
       "<table border=\"1\" class=\"dataframe\">\n",
       "  <thead>\n",
       "    <tr style=\"text-align: right;\">\n",
       "      <th>month_added</th>\n",
       "      <th>JAN</th>\n",
       "      <th>FEV</th>\n",
       "      <th>MAR</th>\n",
       "      <th>ABR</th>\n",
       "      <th>MAI</th>\n",
       "      <th>JUN</th>\n",
       "      <th>JUL</th>\n",
       "      <th>AGO</th>\n",
       "      <th>SET</th>\n",
       "      <th>OUT</th>\n",
       "      <th>NOV</th>\n",
       "      <th>DEZ</th>\n",
       "    </tr>\n",
       "    <tr>\n",
       "      <th>year_added</th>\n",
       "      <th></th>\n",
       "      <th></th>\n",
       "      <th></th>\n",
       "      <th></th>\n",
       "      <th></th>\n",
       "      <th></th>\n",
       "      <th></th>\n",
       "      <th></th>\n",
       "      <th></th>\n",
       "      <th></th>\n",
       "      <th></th>\n",
       "      <th></th>\n",
       "    </tr>\n",
       "  </thead>\n",
       "  <tbody>\n",
       "    <tr>\n",
       "      <th>2008</th>\n",
       "      <td>1.0</td>\n",
       "      <td>0.0</td>\n",
       "      <td>0.0</td>\n",
       "      <td>0.0</td>\n",
       "      <td>0.0</td>\n",
       "      <td>0.0</td>\n",
       "      <td>0.0</td>\n",
       "      <td>0.0</td>\n",
       "      <td>0.0</td>\n",
       "      <td>0.0</td>\n",
       "      <td>0.0</td>\n",
       "      <td>0.0</td>\n",
       "    </tr>\n",
       "    <tr>\n",
       "      <th>2009</th>\n",
       "      <td>0.0</td>\n",
       "      <td>0.0</td>\n",
       "      <td>0.0</td>\n",
       "      <td>0.0</td>\n",
       "      <td>1.0</td>\n",
       "      <td>0.0</td>\n",
       "      <td>0.0</td>\n",
       "      <td>0.0</td>\n",
       "      <td>0.0</td>\n",
       "      <td>0.0</td>\n",
       "      <td>1.0</td>\n",
       "      <td>0.0</td>\n",
       "    </tr>\n",
       "    <tr>\n",
       "      <th>2010</th>\n",
       "      <td>0.0</td>\n",
       "      <td>0.0</td>\n",
       "      <td>0.0</td>\n",
       "      <td>0.0</td>\n",
       "      <td>0.0</td>\n",
       "      <td>0.0</td>\n",
       "      <td>0.0</td>\n",
       "      <td>0.0</td>\n",
       "      <td>0.0</td>\n",
       "      <td>0.0</td>\n",
       "      <td>1.0</td>\n",
       "      <td>0.0</td>\n",
       "    </tr>\n",
       "    <tr>\n",
       "      <th>2011</th>\n",
       "      <td>0.0</td>\n",
       "      <td>0.0</td>\n",
       "      <td>0.0</td>\n",
       "      <td>0.0</td>\n",
       "      <td>1.0</td>\n",
       "      <td>0.0</td>\n",
       "      <td>0.0</td>\n",
       "      <td>0.0</td>\n",
       "      <td>1.0</td>\n",
       "      <td>11.0</td>\n",
       "      <td>0.0</td>\n",
       "      <td>0.0</td>\n",
       "    </tr>\n",
       "    <tr>\n",
       "      <th>2012</th>\n",
       "      <td>0.0</td>\n",
       "      <td>1.0</td>\n",
       "      <td>0.0</td>\n",
       "      <td>0.0</td>\n",
       "      <td>0.0</td>\n",
       "      <td>0.0</td>\n",
       "      <td>0.0</td>\n",
       "      <td>0.0</td>\n",
       "      <td>0.0</td>\n",
       "      <td>0.0</td>\n",
       "      <td>1.0</td>\n",
       "      <td>1.0</td>\n",
       "    </tr>\n",
       "    <tr>\n",
       "      <th>2013</th>\n",
       "      <td>0.0</td>\n",
       "      <td>0.0</td>\n",
       "      <td>0.0</td>\n",
       "      <td>0.0</td>\n",
       "      <td>0.0</td>\n",
       "      <td>0.0</td>\n",
       "      <td>0.0</td>\n",
       "      <td>0.0</td>\n",
       "      <td>1.0</td>\n",
       "      <td>1.0</td>\n",
       "      <td>2.0</td>\n",
       "      <td>2.0</td>\n",
       "    </tr>\n",
       "    <tr>\n",
       "      <th>2014</th>\n",
       "      <td>2.0</td>\n",
       "      <td>1.0</td>\n",
       "      <td>0.0</td>\n",
       "      <td>1.0</td>\n",
       "      <td>0.0</td>\n",
       "      <td>1.0</td>\n",
       "      <td>1.0</td>\n",
       "      <td>1.0</td>\n",
       "      <td>1.0</td>\n",
       "      <td>4.0</td>\n",
       "      <td>2.0</td>\n",
       "      <td>5.0</td>\n",
       "    </tr>\n",
       "    <tr>\n",
       "      <th>2015</th>\n",
       "      <td>1.0</td>\n",
       "      <td>3.0</td>\n",
       "      <td>3.0</td>\n",
       "      <td>1.0</td>\n",
       "      <td>5.0</td>\n",
       "      <td>4.0</td>\n",
       "      <td>5.0</td>\n",
       "      <td>2.0</td>\n",
       "      <td>6.0</td>\n",
       "      <td>10.0</td>\n",
       "      <td>2.0</td>\n",
       "      <td>14.0</td>\n",
       "    </tr>\n",
       "    <tr>\n",
       "      <th>2016</th>\n",
       "      <td>15.0</td>\n",
       "      <td>9.0</td>\n",
       "      <td>14.0</td>\n",
       "      <td>14.0</td>\n",
       "      <td>9.0</td>\n",
       "      <td>11.0</td>\n",
       "      <td>19.0</td>\n",
       "      <td>23.0</td>\n",
       "      <td>29.0</td>\n",
       "      <td>32.0</td>\n",
       "      <td>26.0</td>\n",
       "      <td>52.0</td>\n",
       "    </tr>\n",
       "    <tr>\n",
       "      <th>2017</th>\n",
       "      <td>58.0</td>\n",
       "      <td>65.0</td>\n",
       "      <td>87.0</td>\n",
       "      <td>66.0</td>\n",
       "      <td>63.0</td>\n",
       "      <td>65.0</td>\n",
       "      <td>45.0</td>\n",
       "      <td>77.0</td>\n",
       "      <td>81.0</td>\n",
       "      <td>97.0</td>\n",
       "      <td>55.0</td>\n",
       "      <td>80.0</td>\n",
       "    </tr>\n",
       "    <tr>\n",
       "      <th>2018</th>\n",
       "      <td>105.0</td>\n",
       "      <td>63.0</td>\n",
       "      <td>138.0</td>\n",
       "      <td>87.0</td>\n",
       "      <td>70.0</td>\n",
       "      <td>50.0</td>\n",
       "      <td>125.0</td>\n",
       "      <td>130.0</td>\n",
       "      <td>81.0</td>\n",
       "      <td>146.0</td>\n",
       "      <td>118.0</td>\n",
       "      <td>124.0</td>\n",
       "    </tr>\n",
       "    <tr>\n",
       "      <th>2019</th>\n",
       "      <td>116.0</td>\n",
       "      <td>103.0</td>\n",
       "      <td>119.0</td>\n",
       "      <td>119.0</td>\n",
       "      <td>91.0</td>\n",
       "      <td>122.0</td>\n",
       "      <td>98.0</td>\n",
       "      <td>87.0</td>\n",
       "      <td>86.0</td>\n",
       "      <td>128.0</td>\n",
       "      <td>187.0</td>\n",
       "      <td>168.0</td>\n",
       "    </tr>\n",
       "    <tr>\n",
       "      <th>2020</th>\n",
       "      <td>152.0</td>\n",
       "      <td>72.0</td>\n",
       "      <td>93.0</td>\n",
       "      <td>127.0</td>\n",
       "      <td>105.0</td>\n",
       "      <td>115.0</td>\n",
       "      <td>103.0</td>\n",
       "      <td>82.0</td>\n",
       "      <td>115.0</td>\n",
       "      <td>116.0</td>\n",
       "      <td>103.0</td>\n",
       "      <td>101.0</td>\n",
       "    </tr>\n",
       "    <tr>\n",
       "      <th>2021</th>\n",
       "      <td>96.0</td>\n",
       "      <td>65.0</td>\n",
       "      <td>75.0</td>\n",
       "      <td>135.0</td>\n",
       "      <td>94.0</td>\n",
       "      <td>124.0</td>\n",
       "      <td>169.0</td>\n",
       "      <td>117.0</td>\n",
       "      <td>118.0</td>\n",
       "      <td>0.0</td>\n",
       "      <td>0.0</td>\n",
       "      <td>0.0</td>\n",
       "    </tr>\n",
       "  </tbody>\n",
       "</table>\n",
       "</div>"
      ],
      "text/plain": [
       "month_added    JAN    FEV    MAR    ABR    MAI    JUN    JUL    AGO    SET  \\\n",
       "year_added                                                                   \n",
       "2008           1.0    0.0    0.0    0.0    0.0    0.0    0.0    0.0    0.0   \n",
       "2009           0.0    0.0    0.0    0.0    1.0    0.0    0.0    0.0    0.0   \n",
       "2010           0.0    0.0    0.0    0.0    0.0    0.0    0.0    0.0    0.0   \n",
       "2011           0.0    0.0    0.0    0.0    1.0    0.0    0.0    0.0    1.0   \n",
       "2012           0.0    1.0    0.0    0.0    0.0    0.0    0.0    0.0    0.0   \n",
       "2013           0.0    0.0    0.0    0.0    0.0    0.0    0.0    0.0    1.0   \n",
       "2014           2.0    1.0    0.0    1.0    0.0    1.0    1.0    1.0    1.0   \n",
       "2015           1.0    3.0    3.0    1.0    5.0    4.0    5.0    2.0    6.0   \n",
       "2016          15.0    9.0   14.0   14.0    9.0   11.0   19.0   23.0   29.0   \n",
       "2017          58.0   65.0   87.0   66.0   63.0   65.0   45.0   77.0   81.0   \n",
       "2018         105.0   63.0  138.0   87.0   70.0   50.0  125.0  130.0   81.0   \n",
       "2019         116.0  103.0  119.0  119.0   91.0  122.0   98.0   87.0   86.0   \n",
       "2020         152.0   72.0   93.0  127.0  105.0  115.0  103.0   82.0  115.0   \n",
       "2021          96.0   65.0   75.0  135.0   94.0  124.0  169.0  117.0  118.0   \n",
       "\n",
       "month_added    OUT    NOV    DEZ  \n",
       "year_added                        \n",
       "2008           0.0    0.0    0.0  \n",
       "2009           0.0    1.0    0.0  \n",
       "2010           0.0    1.0    0.0  \n",
       "2011          11.0    0.0    0.0  \n",
       "2012           0.0    1.0    1.0  \n",
       "2013           1.0    2.0    2.0  \n",
       "2014           4.0    2.0    5.0  \n",
       "2015          10.0    2.0   14.0  \n",
       "2016          32.0   26.0   52.0  \n",
       "2017          97.0   55.0   80.0  \n",
       "2018         146.0  118.0  124.0  \n",
       "2019         128.0  187.0  168.0  \n",
       "2020         116.0  103.0  101.0  \n",
       "2021           0.0    0.0    0.0  "
      ]
     },
     "execution_count": 52,
     "metadata": {},
     "output_type": "execute_result"
    }
   ],
   "source": [
    "mapa_adicao = tb_pivot.pivot(index='year_added',columns='month_added',values='constant')\n",
    "\n",
    "ordem_columns = ['JAN', 'FEV', 'MAR', 'ABR', 'MAI', 'JUN', 'JUL', 'AGO', 'SET', 'OUT', 'NOV','DEZ']\n",
    "mapa_adicao = mapa_adicao.reindex(columns=ordem_columns)\n",
    "mapa_adicao.fillna(0, inplace = True)\n",
    "mapa_adicao"
   ]
  },
  {
   "cell_type": "code",
   "execution_count": 53,
   "id": "5880be8a",
   "metadata": {
    "ExecuteTime": {
     "end_time": "2023-03-24T03:34:37.269322Z",
     "start_time": "2023-03-24T03:34:36.569145Z"
    }
   },
   "outputs": [
    {
     "data": {
      "image/png": "[encoded data removed]",
      "text/plain": [
       "<Figure size 1152x432 with 2 Axes>"
      ]
     },
     "metadata": {},
     "output_type": "display_data"
    }
   ],
   "source": [
    "plt.figure(figsize=(16,6))\n",
    "sns.heatmap(mapa_adicao,cmap='YlGnBu')\n",
    "\n",
    "plt.yticks(rotation=0)\n",
    "plt.ylabel('')\n",
    "plt.xlabel('Horario da Compra')\n",
    "\n",
    "plt.title(f'Heatmap com adição de Filmes por mês - Neftlix',size=14);"
   ]
  },
  {
   "cell_type": "markdown",
   "id": "d2c05aa8",
   "metadata": {},
   "source": [
    "- Os períodos com mais adição de conteúdos foram: Nov/2019 e Jul/2021"
   ]
  },
  {
   "cell_type": "code",
   "execution_count": 54,
   "id": "99ff3f2d",
   "metadata": {
    "ExecuteTime": {
     "end_time": "2023-03-24T03:34:39.309681Z",
     "start_time": "2023-03-24T03:34:39.281568Z"
    }
   },
   "outputs": [
    {
     "data": {
      "text/html": [
       "<div>\n",
       "<style scoped>\n",
       "    .dataframe tbody tr th:only-of-type {\n",
       "        vertical-align: middle;\n",
       "    }\n",
       "\n",
       "    .dataframe tbody tr th {\n",
       "        vertical-align: top;\n",
       "    }\n",
       "\n",
       "    .dataframe thead th {\n",
       "        text-align: right;\n",
       "    }\n",
       "</style>\n",
       "<table border=\"1\" class=\"dataframe\">\n",
       "  <thead>\n",
       "    <tr style=\"text-align: right;\">\n",
       "      <th></th>\n",
       "      <th>month_added</th>\n",
       "      <th>constant</th>\n",
       "    </tr>\n",
       "  </thead>\n",
       "  <tbody>\n",
       "    <tr>\n",
       "      <th>0</th>\n",
       "      <td>ABR</td>\n",
       "      <td>550</td>\n",
       "    </tr>\n",
       "    <tr>\n",
       "      <th>1</th>\n",
       "      <td>AGO</td>\n",
       "      <td>519</td>\n",
       "    </tr>\n",
       "    <tr>\n",
       "      <th>2</th>\n",
       "      <td>DEZ</td>\n",
       "      <td>547</td>\n",
       "    </tr>\n",
       "    <tr>\n",
       "      <th>3</th>\n",
       "      <td>FEV</td>\n",
       "      <td>382</td>\n",
       "    </tr>\n",
       "    <tr>\n",
       "      <th>4</th>\n",
       "      <td>JAN</td>\n",
       "      <td>546</td>\n",
       "    </tr>\n",
       "    <tr>\n",
       "      <th>5</th>\n",
       "      <td>JUL</td>\n",
       "      <td>565</td>\n",
       "    </tr>\n",
       "    <tr>\n",
       "      <th>6</th>\n",
       "      <td>JUN</td>\n",
       "      <td>492</td>\n",
       "    </tr>\n",
       "    <tr>\n",
       "      <th>7</th>\n",
       "      <td>MAI</td>\n",
       "      <td>439</td>\n",
       "    </tr>\n",
       "    <tr>\n",
       "      <th>8</th>\n",
       "      <td>MAR</td>\n",
       "      <td>529</td>\n",
       "    </tr>\n",
       "    <tr>\n",
       "      <th>9</th>\n",
       "      <td>NOV</td>\n",
       "      <td>498</td>\n",
       "    </tr>\n",
       "    <tr>\n",
       "      <th>10</th>\n",
       "      <td>OUT</td>\n",
       "      <td>545</td>\n",
       "    </tr>\n",
       "    <tr>\n",
       "      <th>11</th>\n",
       "      <td>SET</td>\n",
       "      <td>519</td>\n",
       "    </tr>\n",
       "  </tbody>\n",
       "</table>\n",
       "</div>"
      ],
      "text/plain": [
       "   month_added  constant\n",
       "0          ABR       550\n",
       "1          AGO       519\n",
       "2          DEZ       547\n",
       "3          FEV       382\n",
       "4          JAN       546\n",
       "5          JUL       565\n",
       "6          JUN       492\n",
       "7          MAI       439\n",
       "8          MAR       529\n",
       "9          NOV       498\n",
       "10         OUT       545\n",
       "11         SET       519"
      ]
     },
     "execution_count": 54,
     "metadata": {},
     "output_type": "execute_result"
    }
   ],
   "source": [
    "adicao_mes = df_netflix_movies.groupby('month_added', as_index=False).agg({'constant':'sum'})\n",
    "adicao_mes"
   ]
  },
  {
   "cell_type": "code",
   "execution_count": 55,
   "id": "bcfb491a",
   "metadata": {
    "ExecuteTime": {
     "end_time": "2023-03-24T03:34:40.847266Z",
     "start_time": "2023-03-24T03:34:40.835260Z"
    }
   },
   "outputs": [],
   "source": [
    "ordem_columns = ['JAN', 'FEV', 'MAR', 'ABR', 'MAI', 'JUN', 'JUL', 'AGO', 'SET', 'OUT', 'NOV','DEZ']"
   ]
  },
  {
   "cell_type": "code",
   "execution_count": 56,
   "id": "cd03112c",
   "metadata": {
    "ExecuteTime": {
     "end_time": "2023-03-24T03:34:42.313102Z",
     "start_time": "2023-03-24T03:34:42.269912Z"
    }
   },
   "outputs": [
    {
     "data": {
      "text/html": [
       "<div>\n",
       "<style scoped>\n",
       "    .dataframe tbody tr th:only-of-type {\n",
       "        vertical-align: middle;\n",
       "    }\n",
       "\n",
       "    .dataframe tbody tr th {\n",
       "        vertical-align: top;\n",
       "    }\n",
       "\n",
       "    .dataframe thead th {\n",
       "        text-align: right;\n",
       "    }\n",
       "</style>\n",
       "<table border=\"1\" class=\"dataframe\">\n",
       "  <thead>\n",
       "    <tr style=\"text-align: right;\">\n",
       "      <th></th>\n",
       "      <th>constant</th>\n",
       "      <th>ordem_mes</th>\n",
       "      <th>porcentagem</th>\n",
       "    </tr>\n",
       "  </thead>\n",
       "  <tbody>\n",
       "    <tr>\n",
       "      <th>0</th>\n",
       "      <td>546</td>\n",
       "      <td>JAN</td>\n",
       "      <td>8.91</td>\n",
       "    </tr>\n",
       "    <tr>\n",
       "      <th>1</th>\n",
       "      <td>382</td>\n",
       "      <td>FEV</td>\n",
       "      <td>6.23</td>\n",
       "    </tr>\n",
       "    <tr>\n",
       "      <th>2</th>\n",
       "      <td>529</td>\n",
       "      <td>MAR</td>\n",
       "      <td>8.63</td>\n",
       "    </tr>\n",
       "    <tr>\n",
       "      <th>3</th>\n",
       "      <td>550</td>\n",
       "      <td>ABR</td>\n",
       "      <td>8.97</td>\n",
       "    </tr>\n",
       "    <tr>\n",
       "      <th>4</th>\n",
       "      <td>439</td>\n",
       "      <td>MAI</td>\n",
       "      <td>7.16</td>\n",
       "    </tr>\n",
       "    <tr>\n",
       "      <th>5</th>\n",
       "      <td>492</td>\n",
       "      <td>JUN</td>\n",
       "      <td>8.02</td>\n",
       "    </tr>\n",
       "    <tr>\n",
       "      <th>6</th>\n",
       "      <td>565</td>\n",
       "      <td>JUL</td>\n",
       "      <td>9.22</td>\n",
       "    </tr>\n",
       "    <tr>\n",
       "      <th>7</th>\n",
       "      <td>519</td>\n",
       "      <td>AGO</td>\n",
       "      <td>8.47</td>\n",
       "    </tr>\n",
       "    <tr>\n",
       "      <th>8</th>\n",
       "      <td>519</td>\n",
       "      <td>SET</td>\n",
       "      <td>8.47</td>\n",
       "    </tr>\n",
       "    <tr>\n",
       "      <th>9</th>\n",
       "      <td>545</td>\n",
       "      <td>OUT</td>\n",
       "      <td>8.89</td>\n",
       "    </tr>\n",
       "    <tr>\n",
       "      <th>10</th>\n",
       "      <td>498</td>\n",
       "      <td>NOV</td>\n",
       "      <td>8.12</td>\n",
       "    </tr>\n",
       "    <tr>\n",
       "      <th>11</th>\n",
       "      <td>547</td>\n",
       "      <td>DEZ</td>\n",
       "      <td>8.92</td>\n",
       "    </tr>\n",
       "  </tbody>\n",
       "</table>\n",
       "</div>"
      ],
      "text/plain": [
       "    constant ordem_mes  porcentagem\n",
       "0        546       JAN         8.91\n",
       "1        382       FEV         6.23\n",
       "2        529       MAR         8.63\n",
       "3        550       ABR         8.97\n",
       "4        439       MAI         7.16\n",
       "5        492       JUN         8.02\n",
       "6        565       JUL         9.22\n",
       "7        519       AGO         8.47\n",
       "8        519       SET         8.47\n",
       "9        545       OUT         8.89\n",
       "10       498       NOV         8.12\n",
       "11       547       DEZ         8.92"
      ]
     },
     "execution_count": 56,
     "metadata": {},
     "output_type": "execute_result"
    }
   ],
   "source": [
    "# transformar a coluna em uma categoria com a ordem desejada\n",
    "adicao_mes['ordem_mes'] = pd.Categorical(adicao_mes['month_added'], categories=ordem_columns, ordered=True)\n",
    "\n",
    "# ordenar o DataFrame pela coluna2\n",
    "df_ordenado = adicao_mes.sort_values('ordem_mes')\n",
    "df_ordenado.drop('month_added', axis = 1, inplace = True)\n",
    "\n",
    "df_ordenado.reset_index(drop = True, inplace = True)\n",
    "\n",
    "df_ordenado['porcentagem'] = np.round((df_ordenado['constant'] / \\\n",
    "                                       df_ordenado['constant'].sum())*100,2)\n",
    "\n",
    "\n",
    "df_ordenado"
   ]
  },
  {
   "cell_type": "code",
   "execution_count": 57,
   "id": "b1d6255c",
   "metadata": {
    "ExecuteTime": {
     "end_time": "2023-03-24T03:34:43.986132Z",
     "start_time": "2023-03-24T03:34:43.546751Z"
    }
   },
   "outputs": [
    {
     "data": {
      "image/png": "[encoded data removed]",
      "text/plain": [
       "<Figure size 864x432 with 1 Axes>"
      ]
     },
     "metadata": {},
     "output_type": "display_data"
    }
   ],
   "source": [
    "plt.figure(figsize=(12,6))\n",
    "\n",
    "\n",
    "ax = sns.barplot(x='ordem_mes', y='constant', data=df_ordenado, palette='coolwarm')\n",
    "patches = ax.patches\n",
    "for i in range(len(patches)):\n",
    "   x = patches[i].get_x() + patches[i].get_width()/2\n",
    "   y = patches[i].get_height()+5\n",
    "   ax.annotate('{:.1f}%'.format(df_ordenado.porcentagem[i]), (x, y), ha='center', fontsize=13)\n",
    "\n",
    "plt.title('Número de Filmes Adicionados por Mês', fontsize=20)\n",
    "plt.ylabel('Contagem', fontsize=15)\n",
    "plt.xlabel('', fontsize=15)\n",
    "plt.xticks(fontsize=13)\n",
    "plt.yticks(fontsize=13)\n",
    "plt.show()\n"
   ]
  },
  {
   "cell_type": "markdown",
   "id": "cd0656ae",
   "metadata": {},
   "source": [
    "- No geral, os meses com mais adições de conteúdo foram Julho, Abril e Dezembro."
   ]
  },
  {
   "cell_type": "markdown",
   "id": "633f01a2",
   "metadata": {},
   "source": [
    "## Quantidade de filmes listados como comédia"
   ]
  },
  {
   "cell_type": "markdown",
   "id": "ebd02fd4",
   "metadata": {},
   "source": [
    "- Só serão considerados filmes(movies)."
   ]
  },
  {
   "cell_type": "code",
   "execution_count": 58,
   "id": "4ab61917",
   "metadata": {
    "ExecuteTime": {
     "end_time": "2023-03-24T03:34:45.392790Z",
     "start_time": "2023-03-24T03:34:45.366028Z"
    }
   },
   "outputs": [
    {
     "data": {
      "text/plain": [
       "Movie      13685\n",
       "TV Show     4401\n",
       "Name: type, dtype: int64"
      ]
     },
     "execution_count": 58,
     "metadata": {},
     "output_type": "execute_result"
    }
   ],
   "source": [
    "df_final.type.value_counts()"
   ]
  },
  {
   "cell_type": "code",
   "execution_count": 59,
   "id": "cea45a97",
   "metadata": {
    "ExecuteTime": {
     "end_time": "2023-03-24T03:34:46.947810Z",
     "start_time": "2023-03-24T03:34:46.888466Z"
    }
   },
   "outputs": [
    {
     "data": {
      "text/html": [
       "<div>\n",
       "<style scoped>\n",
       "    .dataframe tbody tr th:only-of-type {\n",
       "        vertical-align: middle;\n",
       "    }\n",
       "\n",
       "    .dataframe tbody tr th {\n",
       "        vertical-align: top;\n",
       "    }\n",
       "\n",
       "    .dataframe thead th {\n",
       "        text-align: right;\n",
       "    }\n",
       "</style>\n",
       "<table border=\"1\" class=\"dataframe\">\n",
       "  <thead>\n",
       "    <tr style=\"text-align: right;\">\n",
       "      <th></th>\n",
       "      <th>show_id</th>\n",
       "      <th>type</th>\n",
       "      <th>title</th>\n",
       "      <th>director</th>\n",
       "      <th>cast</th>\n",
       "      <th>country</th>\n",
       "      <th>date_added</th>\n",
       "      <th>release_year</th>\n",
       "      <th>rating</th>\n",
       "      <th>duration</th>\n",
       "      <th>listed_in</th>\n",
       "      <th>description</th>\n",
       "      <th>month_added</th>\n",
       "      <th>year_added</th>\n",
       "      <th>plataform</th>\n",
       "    </tr>\n",
       "  </thead>\n",
       "  <tbody>\n",
       "    <tr>\n",
       "      <th>15946</th>\n",
       "      <td>s7140</td>\n",
       "      <td>Movie</td>\n",
       "      <td>Clip: 1</td>\n",
       "      <td>1</td>\n",
       "      <td>1</td>\n",
       "      <td>NaN</td>\n",
       "      <td>NaT</td>\n",
       "      <td>2021</td>\n",
       "      <td>18+</td>\n",
       "      <td>3 min</td>\n",
       "      <td>Action</td>\n",
       "      <td>clip1</td>\n",
       "      <td>NaN</td>\n",
       "      <td>NaN</td>\n",
       "      <td>Amazon_Prime</td>\n",
       "    </tr>\n",
       "    <tr>\n",
       "      <th>15737</th>\n",
       "      <td>s6931</td>\n",
       "      <td>Movie</td>\n",
       "      <td>Title Post onboarding 8</td>\n",
       "      <td>1</td>\n",
       "      <td>1</td>\n",
       "      <td>NaN</td>\n",
       "      <td>NaT</td>\n",
       "      <td>2021</td>\n",
       "      <td>18+</td>\n",
       "      <td>61 min</td>\n",
       "      <td>Action</td>\n",
       "      <td>Title Post onboarding 8</td>\n",
       "      <td>NaN</td>\n",
       "      <td>NaN</td>\n",
       "      <td>Amazon_Prime</td>\n",
       "    </tr>\n",
       "    <tr>\n",
       "      <th>16065</th>\n",
       "      <td>s7259</td>\n",
       "      <td>Movie</td>\n",
       "      <td>Clip: ACT 4 - Title after removing 1C - 4</td>\n",
       "      <td>1</td>\n",
       "      <td>1</td>\n",
       "      <td>NaN</td>\n",
       "      <td>NaT</td>\n",
       "      <td>2021</td>\n",
       "      <td>7+</td>\n",
       "      <td>61 min</td>\n",
       "      <td>Comedy</td>\n",
       "      <td>ACT 4 - Title after removing 1C - 44</td>\n",
       "      <td>NaN</td>\n",
       "      <td>NaN</td>\n",
       "      <td>Amazon_Prime</td>\n",
       "    </tr>\n",
       "    <tr>\n",
       "      <th>15934</th>\n",
       "      <td>s7128</td>\n",
       "      <td>Movie</td>\n",
       "      <td>Act 4 - Title before 1C onboarding 2</td>\n",
       "      <td>1</td>\n",
       "      <td>1</td>\n",
       "      <td>NaN</td>\n",
       "      <td>NaT</td>\n",
       "      <td>2021</td>\n",
       "      <td>ALL</td>\n",
       "      <td>61 min</td>\n",
       "      <td>Action</td>\n",
       "      <td>1</td>\n",
       "      <td>NaN</td>\n",
       "      <td>NaN</td>\n",
       "      <td>Amazon_Prime</td>\n",
       "    </tr>\n",
       "    <tr>\n",
       "      <th>15935</th>\n",
       "      <td>s7129</td>\n",
       "      <td>Movie</td>\n",
       "      <td>Act 4 - Title before 1C onboarding 1</td>\n",
       "      <td>1</td>\n",
       "      <td>1</td>\n",
       "      <td>NaN</td>\n",
       "      <td>NaT</td>\n",
       "      <td>2021</td>\n",
       "      <td>ALL</td>\n",
       "      <td>61 min</td>\n",
       "      <td>Action</td>\n",
       "      <td>1</td>\n",
       "      <td>NaN</td>\n",
       "      <td>NaN</td>\n",
       "      <td>Amazon_Prime</td>\n",
       "    </tr>\n",
       "  </tbody>\n",
       "</table>\n",
       "</div>"
      ],
      "text/plain": [
       "      show_id   type                                      title director cast  \\\n",
       "15946   s7140  Movie                                    Clip: 1        1    1   \n",
       "15737   s6931  Movie                    Title Post onboarding 8        1    1   \n",
       "16065   s7259  Movie  Clip: ACT 4 - Title after removing 1C - 4        1    1   \n",
       "15934   s7128  Movie       Act 4 - Title before 1C onboarding 2        1    1   \n",
       "15935   s7129  Movie       Act 4 - Title before 1C onboarding 1        1    1   \n",
       "\n",
       "      country date_added  release_year rating duration listed_in  \\\n",
       "15946     NaN        NaT          2021    18+    3 min    Action   \n",
       "15737     NaN        NaT          2021    18+   61 min    Action   \n",
       "16065     NaN        NaT          2021     7+   61 min    Comedy   \n",
       "15934     NaN        NaT          2021    ALL   61 min    Action   \n",
       "15935     NaN        NaT          2021    ALL   61 min    Action   \n",
       "\n",
       "                                description month_added  year_added  \\\n",
       "15946                                 clip1         NaN         NaN   \n",
       "15737               Title Post onboarding 8         NaN         NaN   \n",
       "16065  ACT 4 - Title after removing 1C - 44         NaN         NaN   \n",
       "15934                                     1         NaN         NaN   \n",
       "15935                                     1         NaN         NaN   \n",
       "\n",
       "          plataform  \n",
       "15946  Amazon_Prime  \n",
       "15737  Amazon_Prime  \n",
       "16065  Amazon_Prime  \n",
       "15934  Amazon_Prime  \n",
       "15935  Amazon_Prime  "
      ]
     },
     "execution_count": 59,
     "metadata": {},
     "output_type": "execute_result"
    }
   ],
   "source": [
    "df_final_movies = df_final.query('type == \"Movie\"')\n",
    "df_final_movies.head()"
   ]
  },
  {
   "cell_type": "code",
   "execution_count": 60,
   "id": "006ee6f9",
   "metadata": {
    "ExecuteTime": {
     "end_time": "2023-03-24T03:34:48.505375Z",
     "start_time": "2023-03-24T03:34:48.491268Z"
    }
   },
   "outputs": [
    {
     "data": {
      "text/plain": [
       "Drama                                                858\n",
       "Comedy                                               437\n",
       "Dramas, International Movies                         359\n",
       "Documentaries                                        357\n",
       "Drama, Suspense                                      343\n",
       "                                                    ... \n",
       "Arthouse, Young Adult Audience                         1\n",
       "LGBTQ, Special Interest                                1\n",
       "Anime Features, Music & Musicals                       1\n",
       "Arts, Entertainment, and Culture, Fantasy, Horror      1\n",
       "Arthouse, Comedy, International                        1\n",
       "Name: listed_in, Length: 709, dtype: int64"
      ]
     },
     "execution_count": 60,
     "metadata": {},
     "output_type": "execute_result"
    }
   ],
   "source": [
    "df_final_movies.listed_in.value_counts()"
   ]
  },
  {
   "cell_type": "code",
   "execution_count": 61,
   "id": "ad4a21fc",
   "metadata": {
    "ExecuteTime": {
     "end_time": "2023-03-24T03:34:49.786969Z",
     "start_time": "2023-03-24T03:34:49.711805Z"
    }
   },
   "outputs": [
    {
     "data": {
      "text/html": [
       "<div>\n",
       "<style scoped>\n",
       "    .dataframe tbody tr th:only-of-type {\n",
       "        vertical-align: middle;\n",
       "    }\n",
       "\n",
       "    .dataframe tbody tr th {\n",
       "        vertical-align: top;\n",
       "    }\n",
       "\n",
       "    .dataframe thead th {\n",
       "        text-align: right;\n",
       "    }\n",
       "</style>\n",
       "<table border=\"1\" class=\"dataframe\">\n",
       "  <thead>\n",
       "    <tr style=\"text-align: right;\">\n",
       "      <th></th>\n",
       "      <th>genero</th>\n",
       "      <th>frequencia</th>\n",
       "    </tr>\n",
       "  </thead>\n",
       "  <tbody>\n",
       "    <tr>\n",
       "      <th>6</th>\n",
       "      <td>Drama</td>\n",
       "      <td>3150</td>\n",
       "    </tr>\n",
       "    <tr>\n",
       "      <th>10</th>\n",
       "      <td>International Movies</td>\n",
       "      <td>2719</td>\n",
       "    </tr>\n",
       "    <tr>\n",
       "      <th>9</th>\n",
       "      <td>Dramas</td>\n",
       "      <td>2368</td>\n",
       "    </tr>\n",
       "    <tr>\n",
       "      <th>1</th>\n",
       "      <td>Comedy</td>\n",
       "      <td>1775</td>\n",
       "    </tr>\n",
       "    <tr>\n",
       "      <th>8</th>\n",
       "      <td>Comedies</td>\n",
       "      <td>1637</td>\n",
       "    </tr>\n",
       "    <tr>\n",
       "      <th>0</th>\n",
       "      <td>Action</td>\n",
       "      <td>1471</td>\n",
       "    </tr>\n",
       "    <tr>\n",
       "      <th>16</th>\n",
       "      <td>Suspense</td>\n",
       "      <td>1351</td>\n",
       "    </tr>\n",
       "    <tr>\n",
       "      <th>23</th>\n",
       "      <td>Documentaries</td>\n",
       "      <td>864</td>\n",
       "    </tr>\n",
       "    <tr>\n",
       "      <th>14</th>\n",
       "      <td>Action &amp; Adventure</td>\n",
       "      <td>839</td>\n",
       "    </tr>\n",
       "    <tr>\n",
       "      <th>12</th>\n",
       "      <td>Horror</td>\n",
       "      <td>832</td>\n",
       "    </tr>\n",
       "  </tbody>\n",
       "</table>\n",
       "</div>"
      ],
      "text/plain": [
       "                  genero  frequencia\n",
       "6                  Drama        3150\n",
       "10  International Movies        2719\n",
       "9                 Dramas        2368\n",
       "1                 Comedy        1775\n",
       "8               Comedies        1637\n",
       "0                 Action        1471\n",
       "16              Suspense        1351\n",
       "23         Documentaries         864\n",
       "14    Action & Adventure         839\n",
       "12                Horror         832"
      ]
     },
     "execution_count": 61,
     "metadata": {},
     "output_type": "execute_result"
    }
   ],
   "source": [
    "genero_filmes = df_final_movies['listed_in'].str.split(', ').dropna()\n",
    "\n",
    "# criar um dicionário para contar a frequência de cada nome\n",
    "freq = {}\n",
    "for lista in genero_filmes:\n",
    "    for nome in lista:\n",
    "        if nome in freq:\n",
    "            freq[nome] += 1\n",
    "        else:\n",
    "            freq[nome] = 1\n",
    "\n",
    "# criar um dataframe com a contagem de cada nome\n",
    "df_freq = pd.DataFrame({'genero': list(freq.keys()), 'frequencia': list(freq.values())})\n",
    "\n",
    "# ordenar o dataframe pela frequência em ordem decrescente\n",
    "df_freq = df_freq.sort_values('frequencia', ascending=False)\n",
    "\n",
    "\n",
    "df_freq.head(10)"
   ]
  },
  {
   "cell_type": "code",
   "execution_count": 62,
   "id": "d5f2dded",
   "metadata": {
    "ExecuteTime": {
     "end_time": "2023-03-24T03:34:51.026564Z",
     "start_time": "2023-03-24T03:34:51.012528Z"
    }
   },
   "outputs": [
    {
     "name": "stdout",
     "output_type": "stream",
     "text": [
      "1775 filmes estão listados com o gênero de comédia.\n"
     ]
    }
   ],
   "source": [
    "filmes_comedia = df_freq.query('genero == \"Comedy\"')['frequencia'].values[0]\n",
    "print(f'{filmes_comedia} filmes estão listados com o gênero de comédia.')"
   ]
  },
  {
   "cell_type": "markdown",
   "id": "652060bf",
   "metadata": {},
   "source": [
    "##  Lista de todos os gêneros de filmes"
   ]
  },
  {
   "cell_type": "code",
   "execution_count": 63,
   "id": "a00137d0",
   "metadata": {
    "ExecuteTime": {
     "end_time": "2023-03-24T03:34:52.334074Z",
     "start_time": "2023-03-24T03:34:52.320956Z"
    }
   },
   "outputs": [
    {
     "name": "stdout",
     "output_type": "stream",
     "text": [
      "Temos 49 diferentes tipos de gênero de filmes\n"
     ]
    }
   ],
   "source": [
    "print(f'Temos {df_freq.shape[0]} diferentes tipos de gênero de filmes')"
   ]
  },
  {
   "cell_type": "code",
   "execution_count": 64,
   "id": "ab144ce2",
   "metadata": {
    "ExecuteTime": {
     "end_time": "2023-03-24T03:34:53.503150Z",
     "start_time": "2023-03-24T03:34:53.476673Z"
    }
   },
   "outputs": [
    {
     "data": {
      "text/plain": [
       "array(['Drama', 'International Movies', 'Dramas', 'Comedy', 'Comedies',\n",
       "       'Action', 'Suspense', 'Documentaries', 'Action & Adventure',\n",
       "       'Horror', 'Independent Movies', 'Special Interest', 'Kids',\n",
       "       'Documentary', 'Children & Family Movies', 'Romantic Movies',\n",
       "       'Romance', 'Thrillers', 'Arts', 'Entertainment', 'and Culture',\n",
       "       'Science Fiction', 'Music & Musicals', 'Horror Movies',\n",
       "       'Stand-Up Comedy', 'Animation', 'International',\n",
       "       'Sci-Fi & Fantasy', 'Adventure', 'Western', 'Sports Movies',\n",
       "       'Music Videos and Concerts', 'Arthouse', 'Classic Movies',\n",
       "       'Sports', 'LGBTQ Movies', 'LGBTQ', 'Fitness', 'Anime Features',\n",
       "       'Young Adult Audience', 'Cult Movies', 'Faith & Spirituality',\n",
       "       'Movies', 'Faith and Spirituality', 'Fantasy', 'Military and War',\n",
       "       'Anime', 'Historical', 'Talk Show and Variety'], dtype=object)"
      ]
     },
     "execution_count": 64,
     "metadata": {},
     "output_type": "execute_result"
    }
   ],
   "source": [
    "# Lista de todos os gêneros\n",
    "\n",
    "df_freq.genero.values"
   ]
  },
  {
   "cell_type": "markdown",
   "id": "0c5ed3ff",
   "metadata": {},
   "source": [
    "## Tipo de conteudo"
   ]
  },
  {
   "cell_type": "code",
   "execution_count": 65,
   "id": "b9b307c5",
   "metadata": {
    "ExecuteTime": {
     "end_time": "2023-03-24T03:34:54.700389Z",
     "start_time": "2023-03-24T03:34:54.687419Z"
    }
   },
   "outputs": [
    {
     "data": {
      "text/plain": [
       "Movie      6131\n",
       "TV Show    2676\n",
       "Name: type, dtype: int64"
      ]
     },
     "execution_count": 65,
     "metadata": {},
     "output_type": "execute_result"
    }
   ],
   "source": [
    "df_netflix.type.value_counts()"
   ]
  },
  {
   "cell_type": "code",
   "execution_count": 66,
   "id": "a4230fe1",
   "metadata": {
    "ExecuteTime": {
     "end_time": "2023-03-24T03:34:56.186336Z",
     "start_time": "2023-03-24T03:34:55.887344Z"
    }
   },
   "outputs": [
    {
     "data": {
      "image/png": "[encoded data removed]",
      "text/plain": [
       "<Figure size 864x432 with 1 Axes>"
      ]
     },
     "metadata": {},
     "output_type": "display_data"
    }
   ],
   "source": [
    "plt.figure(figsize=(12,6))\n",
    "\n",
    "\n",
    "counts = df_netflix.type.value_counts()\n",
    "\n",
    "ax = sns.barplot(x=counts.index, y=counts.values)\n",
    "\n",
    "for i, v in enumerate(counts.values):\n",
    "    ax.text(i, v + 10, \"{:.1f}%\".format((v/len(df_netflix))*100), ha='center')\n",
    "\n",
    "plt.title('Tipo de Conteúdo - Netflix', fontsize=20)\n",
    "plt.ylabel('Contagem', fontsize=15)\n",
    "plt.xlabel('', fontsize=15)\n",
    "plt.xticks(fontsize=13)\n",
    "plt.yticks(fontsize=13)\n",
    "plt.show()\n",
    "\n"
   ]
  },
  {
   "cell_type": "code",
   "execution_count": 67,
   "id": "54862104",
   "metadata": {
    "ExecuteTime": {
     "end_time": "2023-03-24T03:34:57.883069Z",
     "start_time": "2023-03-24T03:34:57.592071Z"
    }
   },
   "outputs": [
    {
     "data": {
      "image/png": "[encoded data removed]",
      "text/plain": [
       "<Figure size 864x432 with 1 Axes>"
      ]
     },
     "metadata": {},
     "output_type": "display_data"
    }
   ],
   "source": [
    "plt.figure(figsize=(12,6))\n",
    "\n",
    "\n",
    "counts = df_amazon.type.value_counts()\n",
    "\n",
    "ax = sns.barplot(x=counts.index, y=counts.values)\n",
    "\n",
    "for i, v in enumerate(counts.values):\n",
    "    ax.text(i, v + 10, \"{:.1f}%\".format((v/len(df_amazon))*100), ha='center')\n",
    "\n",
    "plt.title('Tipo de Conteúdo - Amazon', fontsize=20)\n",
    "plt.ylabel('Contagem', fontsize=15)\n",
    "plt.xlabel('', fontsize=15)\n",
    "plt.xticks(fontsize=13)\n",
    "plt.yticks(fontsize=13)\n",
    "plt.show()\n",
    "\n"
   ]
  },
  {
   "cell_type": "markdown",
   "id": "63b71be5",
   "metadata": {},
   "source": [
    "- Quase 70% dos conteudos do Netflix são filmes, enquanto que aproximadamente 81% dos conteudos na Amazon Prime são filmes."
   ]
  },
  {
   "cell_type": "code",
   "execution_count": 68,
   "id": "8454d124",
   "metadata": {
    "ExecuteTime": {
     "end_time": "2023-03-24T03:34:59.612481Z",
     "start_time": "2023-03-24T03:34:59.362972Z"
    }
   },
   "outputs": [
    {
     "data": {
      "image/png": "[encoded data removed]",
      "text/plain": [
       "<Figure size 864x432 with 1 Axes>"
      ]
     },
     "metadata": {},
     "output_type": "display_data"
    }
   ],
   "source": [
    "plt.figure(figsize=(12,6))\n",
    "\n",
    "\n",
    "counts = df_final.type.value_counts()\n",
    "\n",
    "ax = sns.barplot(x=counts.index, y=counts.values)\n",
    "\n",
    "for i, v in enumerate(counts.values):\n",
    "    ax.text(i, v + 10, \"{:.1f}%\".format((v/len(df_final))*100), ha='center')\n",
    "\n",
    "plt.title('Tipo de Conteúdo - Geral', fontsize=20)\n",
    "plt.ylabel('Contagem', fontsize=15)\n",
    "plt.xlabel('', fontsize=15)\n",
    "plt.xticks(fontsize=13)\n",
    "plt.yticks(fontsize=13)\n",
    "plt.show()\n",
    "\n"
   ]
  }
 ],
 "metadata": {
  "kernelspec": {
   "display_name": "Python 3",
   "language": "python",
   "name": "python3"
  },
  "language_info": {
   "codemirror_mode": {
    "name": "ipython",
    "version": 3
   },
   "file_extension": ".py",
   "mimetype": "text/x-python",
   "name": "python",
   "nbconvert_exporter": "python",
   "pygments_lexer": "ipython3",
   "version": "3.8.8"
  },
  "toc": {
   "base_numbering": 1,
   "nav_menu": {},
   "number_sections": true,
   "sideBar": true,
   "skip_h1_title": false,
   "title_cell": "Table of Contents",
   "title_sidebar": "Contents",
   "toc_cell": false,
   "toc_position": {
    "height": "calc(100% - 180px)",
    "left": "10px",
    "top": "150px",
    "width": "223.225px"
   },
   "toc_section_display": true,
   "toc_window_display": true
  },
  "varInspector": {
   "cols": {
    "lenName": 16,
    "lenType": 16,
    "lenVar": 40
   },
   "kernels_config": {
    "python": {
     "delete_cmd_postfix": "",
     "delete_cmd_prefix": "del ",
     "library": "var_list.py",
     "varRefreshCmd": "print(var_dic_list())"
    },
    "r": {
     "delete_cmd_postfix": ") ",
     "delete_cmd_prefix": "rm(",
     "library": "var_list.r",
     "varRefreshCmd": "cat(var_dic_list()) "
    }
   },
   "types_to_exclude": [
    "module",
    "function",
    "builtin_function_or_method",
    "instance",
    "_Feature"
   ],
   "window_display": false
  }
 },
 "nbformat": 4,
 "nbformat_minor": 5
}
